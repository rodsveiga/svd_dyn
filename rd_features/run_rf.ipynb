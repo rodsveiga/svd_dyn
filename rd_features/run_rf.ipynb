{
 "cells": [
  {
   "cell_type": "code",
   "execution_count": null,
   "id": "d9635659-f10e-4bb9-9c8f-cf0ed2cab2d9",
   "metadata": {},
   "outputs": [],
   "source": [
    "import numpy as np\n",
    "import matplotlib.pyplot as plt\n",
    "from rf import rf"
   ]
  },
  {
   "cell_type": "code",
   "execution_count": 6,
   "id": "5492eae6-d36d-468b-bf37-cbb8965df26c",
   "metadata": {},
   "outputs": [],
   "source": [
    "d = 100                            # Number of input units \n",
    "k = 4                              # Number of teacher hidden units  \n",
    "p = 200                              # Number of student hidden units \n",
    "noise = 0.                       # Noise level\n",
    "t_max = 1e4                        # Maximum t on the respective time scaling\n",
    "tol = 0                            # Stops if abs(pop_risk_t - pop_risk_{t-1}) <= tol. If zero, stops on alpha_max\n",
    "save_folder = 'results/'          # Folder to save\n",
    "gamma_0 = 1. / np.sqrt(d)"
   ]
  },
  {
   "cell_type": "code",
   "execution_count": 7,
   "id": "eea527d0-b4cf-463b-87ea-0ac324e2df06",
   "metadata": {},
   "outputs": [
    {
     "name": "stdout",
     "output_type": "stream",
     "text": [
      "- - - RANDOM FEATURES MODEL - - -\n",
      "Noiseless linear teacher : y_t = Wx/sqrt(d)\n",
      "Scaling:\n",
      "BLUE line: kappa + delta = 0\n",
      "alpha_scale:  d1.0000\n",
      "d= 100, p= 200, lra= 0.100, noise= 0e+00 -- j= 0, alpha= 0e+00, eg= 0.4894824324, time= 0.00\n",
      "d = 100, p = 200, lra = 0.100, noise= 0e+00 -- j = 100, alpha = 1e+00, eg = 0.4894175719, time = 3.75\n",
      "d = 100, p = 200, lra = 0.100, noise= 0e+00 -- j = 200, alpha = 2e+00, eg = 0.4892971745, time = 0.05\n",
      "d = 100, p = 200, lra = 0.100, noise= 0e+00 -- j = 300, alpha = 3e+00, eg = 0.4891990284, time = 0.05\n",
      "d = 100, p = 200, lra = 0.100, noise= 0e+00 -- j = 400, alpha = 4e+00, eg = 0.4890969298, time = 0.05\n",
      "d = 100, p = 200, lra = 0.100, noise= 0e+00 -- j = 500, alpha = 5e+00, eg = 0.4890065272, time = 0.05\n",
      "d = 100, p = 200, lra = 0.100, noise= 0e+00 -- j = 600, alpha = 6e+00, eg = 0.4889214002, time = 0.06\n",
      "d = 100, p = 200, lra = 0.100, noise= 0e+00 -- j = 700, alpha = 7e+00, eg = 0.4888139128, time = 0.05\n",
      "d = 100, p = 200, lra = 0.100, noise= 0e+00 -- j = 800, alpha = 8e+00, eg = 0.4887212675, time = 0.05\n",
      "d = 100, p = 200, lra = 0.100, noise= 0e+00 -- j = 900, alpha = 9e+00, eg = 0.4886455937, time = 0.05\n",
      "d = 100, p = 200, lra = 0.100, noise= 0e+00 -- j = 1000, alpha = 1e+01, eg = 0.4885448775, time = 0.06\n",
      "d = 100, p = 200, lra = 0.100, noise= 0e+00 -- j = 2000, alpha = 2e+01, eg = 0.4875595865, time = 0.10\n",
      "d = 100, p = 200, lra = 0.100, noise= 0e+00 -- j = 3000, alpha = 3e+01, eg = 0.4867004486, time = 0.11\n",
      "d = 100, p = 200, lra = 0.100, noise= 0e+00 -- j = 4000, alpha = 4e+01, eg = 0.4857817096, time = 0.11\n",
      "d = 100, p = 200, lra = 0.100, noise= 0e+00 -- j = 5000, alpha = 5e+01, eg = 0.4847828571, time = 0.10\n",
      "d = 100, p = 200, lra = 0.100, noise= 0e+00 -- j = 6000, alpha = 6e+01, eg = 0.4838475804, time = 0.11\n",
      "d = 100, p = 200, lra = 0.100, noise= 0e+00 -- j = 7000, alpha = 7e+01, eg = 0.4828031093, time = 0.10\n",
      "d = 100, p = 200, lra = 0.100, noise= 0e+00 -- j = 8000, alpha = 8e+01, eg = 0.4819290638, time = 0.11\n",
      "d = 100, p = 200, lra = 0.100, noise= 0e+00 -- j = 9000, alpha = 9e+01, eg = 0.4809328220, time = 0.11\n",
      "d = 100, p = 200, lra = 0.100, noise= 0e+00 -- j = 10000, alpha = 1e+02, eg = 0.4799493747, time = 0.11\n",
      "d = 100, p = 200, lra = 0.100, noise= 0e+00 -- j = 20000, alpha = 2e+02, eg = 0.4706568098, time = 0.61\n",
      "d = 100, p = 200, lra = 0.100, noise= 0e+00 -- j = 30000, alpha = 3e+02, eg = 0.4614675893, time = 0.61\n",
      "d = 100, p = 200, lra = 0.100, noise= 0e+00 -- j = 40000, alpha = 4e+02, eg = 0.4529353872, time = 0.61\n",
      "d = 100, p = 200, lra = 0.100, noise= 0e+00 -- j = 50000, alpha = 5e+02, eg = 0.4444760510, time = 0.61\n",
      "d = 100, p = 200, lra = 0.100, noise= 0e+00 -- j = 60000, alpha = 6e+02, eg = 0.4364728488, time = 0.66\n",
      "d = 100, p = 200, lra = 0.100, noise= 0e+00 -- j = 70000, alpha = 7e+02, eg = 0.4288183511, time = 0.72\n",
      "d = 100, p = 200, lra = 0.100, noise= 0e+00 -- j = 80000, alpha = 8e+02, eg = 0.4212892182, time = 0.72\n",
      "d = 100, p = 200, lra = 0.100, noise= 0e+00 -- j = 90000, alpha = 9e+02, eg = 0.4136406352, time = 0.73\n",
      "d = 100, p = 200, lra = 0.100, noise= 0e+00 -- j = 100000, alpha = 1e+03, eg = 0.4064195969, time = 0.73\n",
      "d = 100, p = 200, lra = 0.100, noise= 0e+00 -- j = 200000, alpha = 2e+03, eg = 0.3456293204, time = 7.18\n",
      "d = 100, p = 200, lra = 0.100, noise= 0e+00 -- j = 300000, alpha = 3e+03, eg = 0.2993515917, time = 6.94\n",
      "d = 100, p = 200, lra = 0.100, noise= 0e+00 -- j = 400000, alpha = 4e+03, eg = 0.2639151843, time = 6.78\n",
      "d = 100, p = 200, lra = 0.100, noise= 0e+00 -- j = 500000, alpha = 5e+03, eg = 0.2354969021, time = 6.87\n",
      "d = 100, p = 200, lra = 0.100, noise= 0e+00 -- j = 600000, alpha = 6e+03, eg = 0.2124032035, time = 7.09\n",
      "d = 100, p = 200, lra = 0.100, noise= 0e+00 -- j = 700000, alpha = 7e+03, eg = 0.1931471235, time = 6.98\n",
      "d = 100, p = 200, lra = 0.100, noise= 0e+00 -- j = 800000, alpha = 8e+03, eg = 0.1770838067, time = 6.77\n",
      "d = 100, p = 200, lra = 0.100, noise= 0e+00 -- j = 900000, alpha = 9e+03, eg = 0.1632964661, time = 6.85\n",
      "d = 100, p = 200, lra = 0.100, noise= 0e+00 -- j = 1000000, alpha = 1e+04, eg = 0.1512640824, time = 7.01\n",
      "Terminating: alpha = 1e+04 (alpha_max)\n"
     ]
    }
   ],
   "source": [
    "kappa = 0                              # Hidden layer exponent \n",
    "delta = 0                              # Learning rate exponent\n",
    "\n",
    "simul = rf(d,p,k, norm=True)                           # Initialize the class\n",
    "beta_t  = simul.set_teacher()    # orthWt: whether the teacher is delta_{rs} or not\n",
    "W0, a0 = simul.set_Theta0()                 # Gaussian uninformed initialization\n",
    "\n",
    "t, eg, _ , _ = simul.fit(alpha_max= t_max, \n",
    "                         delta=delta, \n",
    "                         kappa=kappa,\n",
    "                         lra0= gamma_0,  \n",
    "                         noise= noise, \n",
    "                         tol= tol, \n",
    "                         save_folder= save_folder)"
   ]
  },
  {
   "cell_type": "code",
   "execution_count": 16,
   "id": "1359a607-b4fd-4820-b670-b2ca8648757a",
   "metadata": {},
   "outputs": [
    {
     "data": {
      "text/plain": [
       "array([-2.54935723e-03,  3.77673874e-03,  7.41647717e-04, -5.52794376e-03,\n",
       "       -4.13974105e-03,  1.80245094e-03,  3.30516382e-03,  8.10091552e-04,\n",
       "        1.00840351e-02,  8.90563974e-03, -6.70951168e-04, -4.70703712e-03,\n",
       "       -6.02507761e-03,  6.22922102e-03,  7.87405268e-03, -7.70290064e-04,\n",
       "        1.29479565e-03, -6.88258351e-04,  1.37152275e-03,  3.31888527e-03,\n",
       "       -9.59264901e-03, -2.65958712e-03,  1.96894121e-04, -8.82853794e-03,\n",
       "        3.24555827e-03, -7.59440818e-03, -6.87500312e-03, -4.26775486e-03,\n",
       "       -4.92510877e-03,  6.09482535e-03, -3.68280239e-03, -1.30594233e-03,\n",
       "       -5.17713753e-03,  5.38084095e-03,  4.12438238e-03, -6.53847023e-03,\n",
       "        1.98464452e-03, -7.98919441e-03,  2.19801363e-04, -2.08944949e-03,\n",
       "        2.66269351e-03, -9.25204514e-03,  2.42042084e-04, -7.14748336e-05,\n",
       "       -2.51136082e-03,  1.56685180e-03, -8.46179768e-03, -1.74322393e-03,\n",
       "        6.50964280e-04, -2.80117336e-03,  4.19819651e-03,  6.52137671e-03,\n",
       "       -6.30752366e-03,  2.24863973e-03,  1.09974493e-02, -1.66330976e-03,\n",
       "       -4.78463125e-03, -1.46068754e-03, -3.60026995e-03,  2.43841288e-03,\n",
       "       -9.08478477e-04,  3.74243969e-03,  4.33341360e-04, -1.15328614e-02,\n",
       "       -1.16783192e-03,  3.11504104e-03, -3.52268083e-03, -3.23604910e-03,\n",
       "        1.62718056e-03,  1.50565300e-03, -6.27741289e-03,  6.05800307e-03,\n",
       "       -5.02660059e-03, -6.03697126e-03, -4.89114153e-03, -7.86914577e-03,\n",
       "       -2.67988851e-03, -3.28788681e-03, -3.32186497e-03, -1.59743091e-03,\n",
       "        4.86609823e-03, -1.42992078e-03, -1.97088945e-03,  3.51267794e-03,\n",
       "       -4.96278518e-04,  1.00196453e-03,  7.18255665e-03,  3.73720819e-03,\n",
       "       -6.58106823e-03, -1.70271276e-03,  2.11243296e-03,  1.74241902e-03,\n",
       "        7.38031602e-03, -1.01210568e-03,  4.41971817e-03,  7.12254124e-04,\n",
       "       -4.13267816e-03,  4.80747728e-03,  5.30098131e-03, -7.73037988e-04,\n",
       "       -4.34144507e-04,  4.38006737e-03, -2.21391680e-03,  3.00733458e-03,\n",
       "       -8.88827086e-04, -3.69231613e-03, -1.61820848e-03, -6.28554206e-03,\n",
       "        5.73793898e-03,  1.94432504e-03, -8.09899656e-03, -2.96127968e-03,\n",
       "        2.65372501e-04, -1.05926504e-02, -5.86230384e-03,  1.11750857e-04,\n",
       "       -4.57252998e-03, -6.03756479e-03,  5.46865804e-03, -5.39825057e-03,\n",
       "        4.30590082e-03, -7.00380815e-03,  3.81324126e-03,  8.12553634e-04,\n",
       "        7.15203909e-03,  1.27484234e-02, -3.40768426e-03,  4.84085134e-03,\n",
       "        5.17763834e-03,  9.05117118e-03,  4.73970264e-03,  7.81135040e-03,\n",
       "       -3.61402409e-03, -3.16103165e-03,  5.85962051e-03, -2.49058957e-03,\n",
       "        2.04877321e-03,  1.13891534e-02,  5.34498053e-04, -2.82234760e-03,\n",
       "       -1.80593653e-03, -9.29090952e-04, -2.58061131e-03, -8.31471736e-03,\n",
       "       -5.32717620e-04,  6.48646731e-03,  5.46365223e-03, -2.20927276e-04,\n",
       "        4.53630119e-03, -3.26134759e-03,  3.32393162e-03,  2.99836673e-03,\n",
       "        3.87837944e-03,  6.75004595e-03, -7.50900602e-03, -2.51496836e-03,\n",
       "       -7.55516718e-04, -1.53295333e-03,  3.39455894e-03, -1.26015975e-02,\n",
       "       -2.13789396e-03,  7.50993913e-04, -5.43148885e-03, -1.94667349e-02,\n",
       "        2.79591664e-03,  3.54772656e-03, -2.88578216e-03,  6.17893151e-03,\n",
       "        2.69436182e-03, -1.32148276e-03, -1.00830440e-02,  1.74226633e-03,\n",
       "        1.05173600e-03,  1.52911249e-04, -5.82200526e-03,  3.49991926e-03,\n",
       "        1.33204556e-04,  7.81239227e-03, -6.25094655e-04, -8.18311938e-03,\n",
       "        5.70308026e-03,  5.90098017e-03, -1.38888767e-03, -5.03076095e-03,\n",
       "       -2.05062975e-03,  1.03440232e-03,  2.07430837e-03,  2.59546641e-03,\n",
       "       -1.72297717e-04,  6.97282760e-03,  4.83531187e-03,  9.50602759e-05,\n",
       "       -1.02915749e-03, -1.78025686e-03,  5.84069489e-03, -1.05640150e-03,\n",
       "        1.56989887e-03, -2.40504887e-03, -3.31743689e-03,  8.57842176e-03])"
      ]
     },
     "execution_count": 16,
     "metadata": {},
     "output_type": "execute_result"
    }
   ],
   "source": [
    "a0"
   ]
  },
  {
   "cell_type": "code",
   "execution_count": 5,
   "id": "1d54eaef-c869-41ee-b132-ec5f85e996e6",
   "metadata": {},
   "outputs": [],
   "source": [
    "from sklearn.preprocessing import normalize"
   ]
  },
  {
   "cell_type": "code",
   "execution_count": 8,
   "id": "f9dbb637-f888-4a8f-8fca-743eaf2335fc",
   "metadata": {},
   "outputs": [],
   "source": [
    "Wt =  np.sqrt(d)*normalize(np.random.randn(d, k), axis=1, norm='l2') "
   ]
  },
  {
   "cell_type": "code",
   "execution_count": 7,
   "id": "dc4b8f63-0756-4afd-8af3-2fe3b8e9de01",
   "metadata": {},
   "outputs": [],
   "source": [
    "x = np.random.randn(10)"
   ]
  },
  {
   "cell_type": "code",
   "execution_count": 10,
   "id": "a9bc51af-4e18-49d2-a701-190817131b78",
   "metadata": {},
   "outputs": [
    {
     "data": {
      "text/plain": [
       "3.400497950401918"
      ]
     },
     "execution_count": 10,
     "metadata": {},
     "output_type": "execute_result"
    }
   ],
   "source": [
    "np.linalg.norm(x)"
   ]
  },
  {
   "cell_type": "code",
   "execution_count": 11,
   "id": "78ae9f65-2d75-4115-b863-19f13a282e53",
   "metadata": {},
   "outputs": [
    {
     "data": {
      "text/plain": [
       "3.400497950401918"
      ]
     },
     "execution_count": 11,
     "metadata": {},
     "output_type": "execute_result"
    }
   ],
   "source": [
    "np.sqrt(np.sum(x**2))"
   ]
  },
  {
   "cell_type": "code",
   "execution_count": 19,
   "id": "6b9c7527-d351-4b0f-a981-71efc0dc4d8b",
   "metadata": {},
   "outputs": [
    {
     "data": {
      "text/plain": [
       "array([10., 10., 10., 10.])"
      ]
     },
     "execution_count": 19,
     "metadata": {},
     "output_type": "execute_result"
    }
   ],
   "source": [
    "np.sqrt(np.sum(Wt**2, axis=0))"
   ]
  },
  {
   "cell_type": "code",
   "execution_count": 20,
   "id": "0ea93da4-4532-47ee-8155-0e444ce98df1",
   "metadata": {},
   "outputs": [
    {
     "ename": "NameError",
     "evalue": "name 'at' is not defined",
     "output_type": "error",
     "traceback": [
      "\u001b[0;31m---------------------------------------------------------------------------\u001b[0m",
      "\u001b[0;31mNameError\u001b[0m                                 Traceback (most recent call last)",
      "Cell \u001b[0;32mIn [20], line 1\u001b[0m\n\u001b[0;32m----> 1\u001b[0m \u001b[43mat\u001b[49m\n",
      "\u001b[0;31mNameError\u001b[0m: name 'at' is not defined"
     ]
    }
   ],
   "source": [
    "at"
   ]
  },
  {
   "cell_type": "code",
   "execution_count": 23,
   "id": "f06b1962-5994-47ce-8a26-60152af908f7",
   "metadata": {},
   "outputs": [
    {
     "data": {
      "text/plain": [
       "array([-0.13855267, -0.6908099 , -1.05336427,  1.06549265, -1.84513417,\n",
       "        0.99904188,  0.7535509 ,  1.81013023,  0.37599322,  1.79230666,\n",
       "       -1.32132812,  0.81542589, -0.89501166,  1.41234096, -0.32653368,\n",
       "        1.05291919, -0.58006631, -0.7240041 , -0.14185634, -0.36210062,\n",
       "       -0.05232912, -0.42288863,  1.09432221, -1.43435825, -0.9750616 ,\n",
       "       -1.07207048, -0.67681934, -0.46448065, -0.22178285, -0.62327637,\n",
       "       -0.51284395,  0.08808244,  0.87260987, -1.66290501,  1.46760691,\n",
       "        0.15393718, -0.3851833 ,  0.85925704,  0.98295696, -1.17650041,\n",
       "        0.40629734,  0.98586701, -1.30173241, -0.62043744,  0.29295169,\n",
       "        0.31361881,  0.04549032, -1.16483391,  0.24182135, -0.73086117,\n",
       "       -0.9920907 , -0.2743804 , -1.57908144, -0.70381162, -0.90932114,\n",
       "        0.22821135, -1.22310291, -2.42746239, -0.38128731,  0.18968985,\n",
       "       -1.1576216 , -1.01403883, -0.08555998, -0.26388534, -0.9045637 ,\n",
       "        0.46435766, -0.43932823, -0.34561126, -0.28766946,  1.73246172,\n",
       "        0.73552383,  1.18381724, -0.97671542, -0.1260408 , -0.08529515,\n",
       "       -2.49277558,  0.2373725 ,  0.44777004,  0.49610889,  0.78041361,\n",
       "        0.79047261,  0.85466478, -0.77295206,  1.4859963 , -1.21610679,\n",
       "       -2.2762274 ,  1.40777707, -0.32360179,  0.76875236,  0.29976437,\n",
       "        1.11934352, -0.79548573, -1.26155185,  2.71514844, -0.24749106,\n",
       "        1.85878534, -0.18557358, -0.52740535,  0.55103041,  0.40753634])"
      ]
     },
     "execution_count": 23,
     "metadata": {},
     "output_type": "execute_result"
    }
   ],
   "source": [
    "np.random.randn(d)"
   ]
  },
  {
   "cell_type": "code",
   "execution_count": 24,
   "id": "91807677-9de0-4703-8ba9-53904a9823f5",
   "metadata": {},
   "outputs": [],
   "source": [
    "X_test = np.random.randn(6, 3)"
   ]
  },
  {
   "cell_type": "code",
   "execution_count": null,
   "id": "f8d2c455-bb8e-4274-be9e-2f1aefac51ad",
   "metadata": {},
   "outputs": [],
   "source": []
  },
  {
   "cell_type": "code",
   "execution_count": 31,
   "id": "4fb43863-f5c2-4df8-9ae7-a250a1beffca",
   "metadata": {},
   "outputs": [
    {
     "data": {
      "text/plain": [
       "array([ 0.34084226,  0.41824264, -0.18663397,  0.60695013,  0.03947789,\n",
       "       -1.16327192])"
      ]
     },
     "execution_count": 31,
     "metadata": {},
     "output_type": "execute_result"
    }
   ],
   "source": [
    "X_test[:,0]"
   ]
  },
  {
   "cell_type": "code",
   "execution_count": 32,
   "id": "896c337a-f16d-4e2c-ab75-0171d34875e2",
   "metadata": {},
   "outputs": [
    {
     "name": "stdout",
     "output_type": "stream",
     "text": [
      "0\n",
      "1\n",
      "2\n",
      "3\n",
      "4\n"
     ]
    }
   ],
   "source": [
    "for j in range(5):\n",
    "    print(j)"
   ]
  },
  {
   "cell_type": "code",
   "execution_count": null,
   "id": "7829caf0-2a42-4a1f-8b7b-6cb627baa3fb",
   "metadata": {},
   "outputs": [],
   "source": []
  }
 ],
 "metadata": {
  "kernelspec": {
   "display_name": "Python 3 (ipykernel)",
   "language": "python",
   "name": "python3"
  },
  "language_info": {
   "codemirror_mode": {
    "name": "ipython",
    "version": 3
   },
   "file_extension": ".py",
   "mimetype": "text/x-python",
   "name": "python",
   "nbconvert_exporter": "python",
   "pygments_lexer": "ipython3",
   "version": "3.10.8"
  }
 },
 "nbformat": 4,
 "nbformat_minor": 5
}
