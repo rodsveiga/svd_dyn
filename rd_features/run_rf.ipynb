{
 "cells": [
  {
   "cell_type": "code",
   "execution_count": null,
   "id": "d9635659-f10e-4bb9-9c8f-cf0ed2cab2d9",
   "metadata": {},
   "outputs": [],
   "source": [
    "import numpy as np\n",
    "import matplotlib.pyplot as plt\n",
    "from rf import rf"
   ]
  },
  {
   "cell_type": "code",
   "execution_count": 6,
   "id": "5492eae6-d36d-468b-bf37-cbb8965df26c",
   "metadata": {},
   "outputs": [],
   "source": [
    "d = 100                            # Number of input units \n",
    "k = 4                              # Number of teacher hidden units  \n",
    "p = 200                              # Number of student hidden units \n",
    "noise = 0.                       # Noise level\n",
    "t_max = 1e4                        # Maximum t on the respective time scaling\n",
    "tol = 0                            # Stops if abs(pop_risk_t - pop_risk_{t-1}) <= tol. If zero, stops on alpha_max\n",
    "save_folder = 'results/'          # Folder to save\n",
    "gamma_0 = 1. / np.sqrt(d)"
   ]
  },
  {
   "cell_type": "code",
   "execution_count": 7,
   "id": "eea527d0-b4cf-463b-87ea-0ac324e2df06",
   "metadata": {},
   "outputs": [
    {
     "name": "stdout",
     "output_type": "stream",
     "text": [
      "- - - RANDOM FEATURES MODEL - - -\n",
      "Noiseless linear teacher : y_t = Wx/sqrt(d)\n",
      "Scaling:\n",
      "BLUE line: kappa + delta = 0\n",
      "alpha_scale:  d1.0000\n",
      "d= 100, p= 200, lra= 0.100, noise= 0e+00 -- j= 0, alpha= 0e+00, eg= 0.4894824324, time= 0.00\n",
      "d = 100, p = 200, lra = 0.100, noise= 0e+00 -- j = 100, alpha = 1e+00, eg = 0.4894175719, time = 3.75\n",
      "d = 100, p = 200, lra = 0.100, noise= 0e+00 -- j = 200, alpha = 2e+00, eg = 0.4892971745, time = 0.05\n",
      "d = 100, p = 200, lra = 0.100, noise= 0e+00 -- j = 300, alpha = 3e+00, eg = 0.4891990284, time = 0.05\n",
      "d = 100, p = 200, lra = 0.100, noise= 0e+00 -- j = 400, alpha = 4e+00, eg = 0.4890969298, time = 0.05\n",
      "d = 100, p = 200, lra = 0.100, noise= 0e+00 -- j = 500, alpha = 5e+00, eg = 0.4890065272, time = 0.05\n",
      "d = 100, p = 200, lra = 0.100, noise= 0e+00 -- j = 600, alpha = 6e+00, eg = 0.4889214002, time = 0.06\n",
      "d = 100, p = 200, lra = 0.100, noise= 0e+00 -- j = 700, alpha = 7e+00, eg = 0.4888139128, time = 0.05\n",
      "d = 100, p = 200, lra = 0.100, noise= 0e+00 -- j = 800, alpha = 8e+00, eg = 0.4887212675, time = 0.05\n",
      "d = 100, p = 200, lra = 0.100, noise= 0e+00 -- j = 900, alpha = 9e+00, eg = 0.4886455937, time = 0.05\n",
      "d = 100, p = 200, lra = 0.100, noise= 0e+00 -- j = 1000, alpha = 1e+01, eg = 0.4885448775, time = 0.06\n",
      "d = 100, p = 200, lra = 0.100, noise= 0e+00 -- j = 2000, alpha = 2e+01, eg = 0.4875595865, time = 0.10\n",
      "d = 100, p = 200, lra = 0.100, noise= 0e+00 -- j = 3000, alpha = 3e+01, eg = 0.4867004486, time = 0.11\n",
      "d = 100, p = 200, lra = 0.100, noise= 0e+00 -- j = 4000, alpha = 4e+01, eg = 0.4857817096, time = 0.11\n",
      "d = 100, p = 200, lra = 0.100, noise= 0e+00 -- j = 5000, alpha = 5e+01, eg = 0.4847828571, time = 0.10\n",
      "d = 100, p = 200, lra = 0.100, noise= 0e+00 -- j = 6000, alpha = 6e+01, eg = 0.4838475804, time = 0.11\n",
      "d = 100, p = 200, lra = 0.100, noise= 0e+00 -- j = 7000, alpha = 7e+01, eg = 0.4828031093, time = 0.10\n",
      "d = 100, p = 200, lra = 0.100, noise= 0e+00 -- j = 8000, alpha = 8e+01, eg = 0.4819290638, time = 0.11\n",
      "d = 100, p = 200, lra = 0.100, noise= 0e+00 -- j = 9000, alpha = 9e+01, eg = 0.4809328220, time = 0.11\n",
      "d = 100, p = 200, lra = 0.100, noise= 0e+00 -- j = 10000, alpha = 1e+02, eg = 0.4799493747, time = 0.11\n",
      "d = 100, p = 200, lra = 0.100, noise= 0e+00 -- j = 20000, alpha = 2e+02, eg = 0.4706568098, time = 0.61\n",
      "d = 100, p = 200, lra = 0.100, noise= 0e+00 -- j = 30000, alpha = 3e+02, eg = 0.4614675893, time = 0.61\n",
      "d = 100, p = 200, lra = 0.100, noise= 0e+00 -- j = 40000, alpha = 4e+02, eg = 0.4529353872, time = 0.61\n",
      "d = 100, p = 200, lra = 0.100, noise= 0e+00 -- j = 50000, alpha = 5e+02, eg = 0.4444760510, time = 0.61\n",
      "d = 100, p = 200, lra = 0.100, noise= 0e+00 -- j = 60000, alpha = 6e+02, eg = 0.4364728488, time = 0.66\n",
      "d = 100, p = 200, lra = 0.100, noise= 0e+00 -- j = 70000, alpha = 7e+02, eg = 0.4288183511, time = 0.72\n",
      "d = 100, p = 200, lra = 0.100, noise= 0e+00 -- j = 80000, alpha = 8e+02, eg = 0.4212892182, time = 0.72\n",
      "d = 100, p = 200, lra = 0.100, noise= 0e+00 -- j = 90000, alpha = 9e+02, eg = 0.4136406352, time = 0.73\n",
      "d = 100, p = 200, lra = 0.100, noise= 0e+00 -- j = 100000, alpha = 1e+03, eg = 0.4064195969, time = 0.73\n",
      "d = 100, p = 200, lra = 0.100, noise= 0e+00 -- j = 200000, alpha = 2e+03, eg = 0.3456293204, time = 7.18\n",
      "d = 100, p = 200, lra = 0.100, noise= 0e+00 -- j = 300000, alpha = 3e+03, eg = 0.2993515917, time = 6.94\n",
      "d = 100, p = 200, lra = 0.100, noise= 0e+00 -- j = 400000, alpha = 4e+03, eg = 0.2639151843, time = 6.78\n",
      "d = 100, p = 200, lra = 0.100, noise= 0e+00 -- j = 500000, alpha = 5e+03, eg = 0.2354969021, time = 6.87\n",
      "d = 100, p = 200, lra = 0.100, noise= 0e+00 -- j = 600000, alpha = 6e+03, eg = 0.2124032035, time = 7.09\n",
      "d = 100, p = 200, lra = 0.100, noise= 0e+00 -- j = 700000, alpha = 7e+03, eg = 0.1931471235, time = 6.98\n",
      "d = 100, p = 200, lra = 0.100, noise= 0e+00 -- j = 800000, alpha = 8e+03, eg = 0.1770838067, time = 6.77\n",
      "d = 100, p = 200, lra = 0.100, noise= 0e+00 -- j = 900000, alpha = 9e+03, eg = 0.1632964661, time = 6.85\n",
      "d = 100, p = 200, lra = 0.100, noise= 0e+00 -- j = 1000000, alpha = 1e+04, eg = 0.1512640824, time = 7.01\n",
      "Terminating: alpha = 1e+04 (alpha_max)\n"
     ]
    }
   ],
   "source": [
    "kappa = 0                              # Hidden layer exponent \n",
    "delta = 0                              # Learning rate exponent\n",
    "\n",
    "simul = rf(d,p,k, norm=True)                           # Initialize the class\n",
    "beta_t  = simul.set_teacher()    # orthWt: whether the teacher is delta_{rs} or not\n",
    "W0, a0 = simul.set_Theta0()                 # Gaussian uninformed initialization\n",
    "\n",
    "t, eg, _ , _ = simul.fit(alpha_max= t_max, \n",
    "                         delta=delta, \n",
    "                         kappa=kappa,\n",
    "                         lra0= gamma_0,  \n",
    "                         noise= noise, \n",
    "                         tol= tol, \n",
    "                         save_folder= save_folder)"
   ]
  },
  {
   "cell_type": "code",
   "execution_count": null,
   "id": "b84a4945-0652-4c83-8854-0e1e32c49963",
   "metadata": {},
   "outputs": [],
   "source": []
  }
 ],
 "metadata": {
  "kernelspec": {
   "display_name": "Python 3 (ipykernel)",
   "language": "python",
   "name": "python3"
  },
  "language_info": {
   "codemirror_mode": {
    "name": "ipython",
    "version": 3
   },
   "file_extension": ".py",
   "mimetype": "text/x-python",
   "name": "python",
   "nbconvert_exporter": "python",
   "pygments_lexer": "ipython3",
   "version": "3.10.8"
  }
 },
 "nbformat": 4,
 "nbformat_minor": 5
}
