{
 "cells": [
  {
   "cell_type": "code",
   "execution_count": 1,
   "id": "d9635659-f10e-4bb9-9c8f-cf0ed2cab2d9",
   "metadata": {},
   "outputs": [],
   "source": [
    "import numpy as np\n",
    "import matplotlib.pyplot as plt\n",
    "from rf import rf"
   ]
  },
  {
   "cell_type": "code",
   "execution_count": 2,
   "id": "5492eae6-d36d-468b-bf37-cbb8965df26c",
   "metadata": {},
   "outputs": [],
   "source": [
    "d = 100                            # Number of input units \n",
    "k = 4                              # Number of teacher hidden units  \n",
    "p = 80                              # Number of student hidden units \n",
    "noise = 0.                       # Noise level\n",
    "t_max = 1e4                        # Maximum t on the respective time scaling\n",
    "tol = 0                            # Stops if abs(pop_risk_t - pop_risk_{t-1}) <= tol. If zero, stops on alpha_max\n",
    "save_folder = 'results/'          # Folder to save\n",
    "gamma_0 = 1. / np.sqrt(d)"
   ]
  },
  {
   "cell_type": "code",
   "execution_count": 4,
   "id": "eea527d0-b4cf-463b-87ea-0ac324e2df06",
   "metadata": {},
   "outputs": [
    {
     "name": "stdout",
     "output_type": "stream",
     "text": [
      "- - - RANDOM FEATURES MODEL - - -\n",
      "Noiseless linear teacher : y_t = beta x/sqrt(d)\n",
      "Scaling:\n",
      "BLUE line: kappa + delta = 0\n",
      "alpha_scale:  d1.0000\n",
      "d= 100, p= 80, lra= 0.100, noise= 0e+00 -- j= 0, alpha= 0e+00, eg= 0.5981473848, time= 0.00\n",
      "d = 100, p = 80, lra = 0.100, noise= 0e+00 -- j = 100, alpha = 1e+00, eg = 0.5923702607, time = 0.07\n",
      "d = 100, p = 80, lra = 0.100, noise= 0e+00 -- j = 200, alpha = 2e+00, eg = 0.5861871555, time = 0.03\n",
      "d = 100, p = 80, lra = 0.100, noise= 0e+00 -- j = 300, alpha = 3e+00, eg = 0.5818978692, time = 0.03\n",
      "d = 100, p = 80, lra = 0.100, noise= 0e+00 -- j = 400, alpha = 4e+00, eg = 0.5769804332, time = 0.03\n",
      "d = 100, p = 80, lra = 0.100, noise= 0e+00 -- j = 500, alpha = 5e+00, eg = 0.5730104950, time = 0.03\n",
      "d = 100, p = 80, lra = 0.100, noise= 0e+00 -- j = 600, alpha = 6e+00, eg = 0.5678690810, time = 0.04\n",
      "d = 100, p = 80, lra = 0.100, noise= 0e+00 -- j = 700, alpha = 7e+00, eg = 0.5620482422, time = 0.03\n",
      "d = 100, p = 80, lra = 0.100, noise= 0e+00 -- j = 800, alpha = 8e+00, eg = 0.5579699517, time = 0.03\n",
      "d = 100, p = 80, lra = 0.100, noise= 0e+00 -- j = 900, alpha = 9e+00, eg = 0.5533115790, time = 0.04\n",
      "d = 100, p = 80, lra = 0.100, noise= 0e+00 -- j = 1000, alpha = 1e+01, eg = 0.5493583774, time = 0.04\n",
      "d = 100, p = 80, lra = 0.100, noise= 0e+00 -- j = 2000, alpha = 2e+01, eg = 0.5052862947, time = 0.07\n",
      "d = 100, p = 80, lra = 0.100, noise= 0e+00 -- j = 3000, alpha = 3e+01, eg = 0.4681326579, time = 0.08\n",
      "d = 100, p = 80, lra = 0.100, noise= 0e+00 -- j = 4000, alpha = 4e+01, eg = 0.4382091465, time = 0.08\n",
      "d = 100, p = 80, lra = 0.100, noise= 0e+00 -- j = 5000, alpha = 5e+01, eg = 0.4151481023, time = 0.08\n",
      "d = 100, p = 80, lra = 0.100, noise= 0e+00 -- j = 6000, alpha = 6e+01, eg = 0.3917878023, time = 0.08\n",
      "d = 100, p = 80, lra = 0.100, noise= 0e+00 -- j = 7000, alpha = 7e+01, eg = 0.3761032032, time = 0.09\n",
      "d = 100, p = 80, lra = 0.100, noise= 0e+00 -- j = 8000, alpha = 8e+01, eg = 0.3589781036, time = 0.09\n",
      "d = 100, p = 80, lra = 0.100, noise= 0e+00 -- j = 9000, alpha = 9e+01, eg = 0.3434200256, time = 0.09\n",
      "d = 100, p = 80, lra = 0.100, noise= 0e+00 -- j = 10000, alpha = 1e+02, eg = 0.3298570987, time = 0.08\n",
      "d = 100, p = 80, lra = 0.100, noise= 0e+00 -- j = 20000, alpha = 2e+02, eg = 0.2560943631, time = 0.53\n",
      "d = 100, p = 80, lra = 0.100, noise= 0e+00 -- j = 30000, alpha = 3e+02, eg = 0.2231869903, time = 0.52\n",
      "d = 100, p = 80, lra = 0.100, noise= 0e+00 -- j = 40000, alpha = 4e+02, eg = 0.2049821544, time = 0.50\n",
      "d = 100, p = 80, lra = 0.100, noise= 0e+00 -- j = 50000, alpha = 5e+02, eg = 0.1935824436, time = 0.49\n",
      "d = 100, p = 80, lra = 0.100, noise= 0e+00 -- j = 60000, alpha = 6e+02, eg = 0.1840358150, time = 0.49\n",
      "d = 100, p = 80, lra = 0.100, noise= 0e+00 -- j = 70000, alpha = 7e+02, eg = 0.1769824548, time = 0.49\n",
      "d = 100, p = 80, lra = 0.100, noise= 0e+00 -- j = 80000, alpha = 8e+02, eg = 0.1718095738, time = 0.49\n",
      "d = 100, p = 80, lra = 0.100, noise= 0e+00 -- j = 90000, alpha = 9e+02, eg = 0.1672195423, time = 0.49\n",
      "d = 100, p = 80, lra = 0.100, noise= 0e+00 -- j = 100000, alpha = 1e+03, eg = 0.1636302293, time = 0.51\n",
      "d = 100, p = 80, lra = 0.100, noise= 0e+00 -- j = 200000, alpha = 2e+03, eg = 0.1468160642, time = 5.00\n",
      "d = 100, p = 80, lra = 0.100, noise= 0e+00 -- j = 300000, alpha = 3e+03, eg = 0.1418822987, time = 5.05\n",
      "d = 100, p = 80, lra = 0.100, noise= 0e+00 -- j = 400000, alpha = 4e+03, eg = 0.1404647810, time = 5.15\n",
      "d = 100, p = 80, lra = 0.100, noise= 0e+00 -- j = 500000, alpha = 5e+03, eg = 0.1397649550, time = 4.98\n",
      "d = 100, p = 80, lra = 0.100, noise= 0e+00 -- j = 600000, alpha = 6e+03, eg = 0.1396616135, time = 4.98\n",
      "d = 100, p = 80, lra = 0.100, noise= 0e+00 -- j = 700000, alpha = 7e+03, eg = 0.1392409795, time = 4.69\n",
      "d = 100, p = 80, lra = 0.100, noise= 0e+00 -- j = 800000, alpha = 8e+03, eg = 0.1389395094, time = 4.78\n",
      "d = 100, p = 80, lra = 0.100, noise= 0e+00 -- j = 900000, alpha = 9e+03, eg = 0.1392464435, time = 4.62\n",
      "d = 100, p = 80, lra = 0.100, noise= 0e+00 -- j = 1000000, alpha = 1e+04, eg = 0.1391722745, time = 4.96\n",
      "Terminating: alpha = 1e+04 (alpha_max)\n"
     ]
    }
   ],
   "source": [
    "kappa = 0                              # Hidden layer exponent \n",
    "delta = 0                              # Learning rate exponent\n",
    "\n",
    "simul = rf(d,p,k)                           # Initialize the class\n",
    "beta_t  = simul.set_teacher()    # orthWt: whether the teacher is delta_{rs} or not\n",
    "W0, a0 = simul.set_Theta0()                 # Gaussian uninformed initialization\n",
    "\n",
    "t, eg, _ , _ = simul.fit(alpha_max= t_max, \n",
    "                         delta=delta, \n",
    "                         kappa=kappa,\n",
    "                         lra0= gamma_0,  \n",
    "                         noise= noise, \n",
    "                         tol= tol, \n",
    "                         save_folder= save_folder)"
   ]
  },
  {
   "cell_type": "code",
   "execution_count": null,
   "id": "b84a4945-0652-4c83-8854-0e1e32c49963",
   "metadata": {},
   "outputs": [],
   "source": []
  }
 ],
 "metadata": {
  "kernelspec": {
   "display_name": "Python 3 (ipykernel)",
   "language": "python",
   "name": "python3"
  },
  "language_info": {
   "codemirror_mode": {
    "name": "ipython",
    "version": 3
   },
   "file_extension": ".py",
   "mimetype": "text/x-python",
   "name": "python",
   "nbconvert_exporter": "python",
   "pygments_lexer": "ipython3",
   "version": "3.10.8"
  }
 },
 "nbformat": 4,
 "nbformat_minor": 5
}
