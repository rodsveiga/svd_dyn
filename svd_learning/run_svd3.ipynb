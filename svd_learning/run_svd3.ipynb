{
 "cells": [
  {
   "cell_type": "code",
   "execution_count": 1,
   "id": "d9635659-f10e-4bb9-9c8f-cf0ed2cab2d9",
   "metadata": {},
   "outputs": [],
   "source": [
    "import numpy as np\n",
    "import matplotlib.pyplot as plt\n",
    "from svd import svd"
   ]
  },
  {
   "cell_type": "code",
   "execution_count": 2,
   "id": "5492eae6-d36d-468b-bf37-cbb8965df26c",
   "metadata": {},
   "outputs": [],
   "source": [
    "d = 100                            # Number of input units                              # Number of teacher hidden units  \n",
    "p = 80                               # Number of student hidden units \n",
    "noise = 0.                       # Noise level\n",
    "t_max = 1e2                        # Maximum t on the respective time scaling\n",
    "tol = 0                            # Stops if abs(pop_risk_t - pop_risk_{t-1}) <= tol. If zero, stops on alpha_max\n",
    "save_folder = 'results/'          # Folder to save"
   ]
  },
  {
   "cell_type": "code",
   "execution_count": 3,
   "id": "eea527d0-b4cf-463b-87ea-0ac324e2df06",
   "metadata": {},
   "outputs": [
    {
     "name": "stdout",
     "output_type": "stream",
     "text": [
      "- - - - SVD MODEL - - - -\n",
      "Noiseless linear teacher : y_t = beta x/sqrt(d)\n",
      "--- Phase diagram ---\n",
      "BLUE line: kappa + delta = 0\n",
      "Time scaling:  d1.0000\n",
      "--- Learning rates W / a ---\n",
      "lrW = alpha x lrRF\n",
      "d= 100,  p= 80, lrRF= 0.100, alpha= 10.000, noise= 0e+00 --- j= 0, tscale= 0e+00, eg= 0.4935637209, time= 0.00\n",
      "d = 100, p = 80, lrRF = 0.100, alpha = 10.000, noise= 0e+00 --- j = 100, tscale = 1e+00, eg = 0.4926958764, time = 1.06\n",
      "d = 100, p = 80, lrRF = 0.100, alpha = 10.000, noise= 0e+00 --- j = 200, tscale = 2e+00, eg = 0.4922034099, time = 1.07\n",
      "d = 100, p = 80, lrRF = 0.100, alpha = 10.000, noise= 0e+00 --- j = 300, tscale = 3e+00, eg = 0.4914377147, time = 1.06\n",
      "d = 100, p = 80, lrRF = 0.100, alpha = 10.000, noise= 0e+00 --- j = 400, tscale = 4e+00, eg = 0.4907532085, time = 1.06\n",
      "d = 100, p = 80, lrRF = 0.100, alpha = 10.000, noise= 0e+00 --- j = 500, tscale = 5e+00, eg = 0.4900655159, time = 1.02\n",
      "d = 100, p = 80, lrRF = 0.100, alpha = 10.000, noise= 0e+00 --- j = 600, tscale = 6e+00, eg = 0.4893029093, time = 1.03\n",
      "d = 100, p = 80, lrRF = 0.100, alpha = 10.000, noise= 0e+00 --- j = 700, tscale = 7e+00, eg = 0.4886807086, time = 1.02\n",
      "d = 100, p = 80, lrRF = 0.100, alpha = 10.000, noise= 0e+00 --- j = 800, tscale = 8e+00, eg = 0.4880938435, time = 1.07\n",
      "d = 100, p = 80, lrRF = 0.100, alpha = 10.000, noise= 0e+00 --- j = 900, tscale = 9e+00, eg = 0.4872486058, time = 1.03\n",
      "d = 100, p = 80, lrRF = 0.100, alpha = 10.000, noise= 0e+00 --- j = 1000, tscale = 1e+01, eg = 0.4862570792, time = 1.03\n",
      "d = 100, p = 80, lrRF = 0.100, alpha = 10.000, noise= 0e+00 --- j = 2000, tscale = 2e+01, eg = 0.4790673601, time = 9.78\n",
      "d = 100, p = 80, lrRF = 0.100, alpha = 10.000, noise= 0e+00 --- j = 3000, tscale = 3e+01, eg = 0.4719409127, time = 9.92\n",
      "d = 100, p = 80, lrRF = 0.100, alpha = 10.000, noise= 0e+00 --- j = 4000, tscale = 4e+01, eg = 0.4652252545, time = 9.85\n",
      "d = 100, p = 80, lrRF = 0.100, alpha = 10.000, noise= 0e+00 --- j = 5000, tscale = 5e+01, eg = 0.4582034372, time = 9.83\n",
      "d = 100, p = 80, lrRF = 0.100, alpha = 10.000, noise= 0e+00 --- j = 6000, tscale = 6e+01, eg = 0.4516950100, time = 10.84\n",
      "d = 100, p = 80, lrRF = 0.100, alpha = 10.000, noise= 0e+00 --- j = 7000, tscale = 7e+01, eg = 0.4440047877, time = 11.03\n"
     ]
    },
    {
     "ename": "KeyboardInterrupt",
     "evalue": "",
     "output_type": "error",
     "traceback": [
      "\u001b[0;31m---------------------------------------------------------------------------\u001b[0m",
      "\u001b[0;31mKeyboardInterrupt\u001b[0m                         Traceback (most recent call last)",
      "Cell \u001b[0;32mIn [3], line 9\u001b[0m\n\u001b[1;32m      5\u001b[0m beta_t  \u001b[38;5;241m=\u001b[39m simul\u001b[38;5;241m.\u001b[39mset_teacher()    \u001b[38;5;66;03m# orthWt: whether the teacher is delta_{rs} or not\u001b[39;00m\n\u001b[1;32m      6\u001b[0m U0, sv0, V0t, a0 \u001b[38;5;241m=\u001b[39m simul\u001b[38;5;241m.\u001b[39mset_Theta0()                 \u001b[38;5;66;03m# Gaussian uninformed initialization\u001b[39;00m\n\u001b[0;32m----> 9\u001b[0m t, eg, _  \u001b[38;5;241m=\u001b[39m \u001b[43msimul\u001b[49m\u001b[38;5;241;43m.\u001b[39;49m\u001b[43mfit\u001b[49m\u001b[43m(\u001b[49m\u001b[43mt_max\u001b[49m\u001b[38;5;241;43m=\u001b[39;49m\u001b[43m \u001b[49m\u001b[43mt_max\u001b[49m\u001b[43m,\u001b[49m\u001b[43m \u001b[49m\n\u001b[1;32m     10\u001b[0m \u001b[43m                      \u001b[49m\u001b[43mdelta\u001b[49m\u001b[38;5;241;43m=\u001b[39;49m\u001b[43mdelta\u001b[49m\u001b[43m,\u001b[49m\u001b[43m \u001b[49m\n\u001b[1;32m     11\u001b[0m \u001b[43m                      \u001b[49m\u001b[43mkappa\u001b[49m\u001b[38;5;241;43m=\u001b[39;49m\u001b[43mkappa\u001b[49m\u001b[43m,\u001b[49m\n\u001b[1;32m     12\u001b[0m \u001b[43m                      \u001b[49m\u001b[43mlrRF\u001b[49m\u001b[38;5;241;43m=\u001b[39;49m\u001b[38;5;241;43m1.\u001b[39;49m\u001b[38;5;241;43m/\u001b[39;49m\u001b[43mnp\u001b[49m\u001b[38;5;241;43m.\u001b[39;49m\u001b[43msqrt\u001b[49m\u001b[43m(\u001b[49m\u001b[43md\u001b[49m\u001b[43m)\u001b[49m\u001b[43m,\u001b[49m\u001b[43m \u001b[49m\n\u001b[1;32m     13\u001b[0m \u001b[43m                      \u001b[49m\u001b[43malpha\u001b[49m\u001b[38;5;241;43m=\u001b[39;49m\u001b[38;5;241;43m10.\u001b[39;49m\u001b[43m,\u001b[49m\n\u001b[1;32m     14\u001b[0m \u001b[43m                      \u001b[49m\u001b[43mnoise\u001b[49m\u001b[38;5;241;43m=\u001b[39;49m\u001b[43m \u001b[49m\u001b[43mnoise\u001b[49m\u001b[43m,\u001b[49m\u001b[43m \u001b[49m\n\u001b[1;32m     15\u001b[0m \u001b[43m                      \u001b[49m\u001b[43mtol\u001b[49m\u001b[38;5;241;43m=\u001b[39;49m\u001b[43m \u001b[49m\u001b[43mtol\u001b[49m\u001b[43m,\u001b[49m\u001b[43m \u001b[49m\n\u001b[1;32m     16\u001b[0m \u001b[43m                      \u001b[49m\u001b[43msave_folder\u001b[49m\u001b[38;5;241;43m=\u001b[39;49m\u001b[43m \u001b[49m\u001b[43msave_folder\u001b[49m\u001b[43m)\u001b[49m\n",
      "File \u001b[0;32m~/Dropbox/DOC/svd_dyn/svd_learning/svd.py:87\u001b[0m, in \u001b[0;36msvd.fit\u001b[0;34m(self, t_max, kappa, delta, lrRF, alpha, noise, tol, save_log, save_folder, save_key)\u001b[0m\n\u001b[1;32m     84\u001b[0m \u001b[38;5;28;01mif\u001b[39;00m \u001b[38;5;129;01mnot\u001b[39;00m isExist:\n\u001b[1;32m     85\u001b[0m     os\u001b[38;5;241m.\u001b[39mmakedirs(file_path_id)\n\u001b[0;32m---> 87\u001b[0m alphaf, egf, Wf \u001b[38;5;241m=\u001b[39m \u001b[43mcython_fit\u001b[49m\u001b[43m(\u001b[49m\u001b[43mm_max\u001b[49m\u001b[43m,\u001b[49m\u001b[43m \u001b[49m\u001b[38;5;28;43mself\u001b[39;49m\u001b[38;5;241;43m.\u001b[39;49m\u001b[43mU0\u001b[49m\u001b[43m,\u001b[49m\u001b[43m \u001b[49m\u001b[38;5;28;43mself\u001b[39;49m\u001b[38;5;241;43m.\u001b[39;49m\u001b[43msv0\u001b[49m\u001b[43m,\u001b[49m\u001b[43m \u001b[49m\u001b[38;5;28;43mself\u001b[39;49m\u001b[38;5;241;43m.\u001b[39;49m\u001b[43mV0t\u001b[49m\u001b[43m,\u001b[49m\u001b[43m \u001b[49m\u001b[38;5;28;43mself\u001b[39;49m\u001b[38;5;241;43m.\u001b[39;49m\u001b[43mbeta_t\u001b[49m\u001b[43m,\u001b[49m\u001b[43m \u001b[49m\u001b[38;5;28;43mself\u001b[39;49m\u001b[38;5;241;43m.\u001b[39;49m\u001b[43ma0\u001b[49m\u001b[43m,\u001b[49m\u001b[43m \u001b[49m\u001b[43mlrW\u001b[49m\u001b[43m,\u001b[49m\u001b[43m \u001b[49m\u001b[43mlrRF\u001b[49m\u001b[43m,\u001b[49m\u001b[43m \u001b[49m\u001b[43mnoise\u001b[49m\u001b[43m,\u001b[49m\u001b[43m \u001b[49m\u001b[43mx_scale\u001b[49m\u001b[43m,\u001b[49m\u001b[43m \u001b[49m\u001b[43mtol\u001b[49m\u001b[43m,\u001b[49m\u001b[43m \u001b[49m\u001b[43mt_max\u001b[49m\u001b[43m,\u001b[49m\u001b[43m \u001b[49m\u001b[43mplotlist\u001b[49m\u001b[43m,\u001b[49m\u001b[43m \u001b[49m\u001b[43msavelist\u001b[49m\u001b[43m,\u001b[49m\u001b[43m \u001b[49m\u001b[43msave_log\u001b[49m\u001b[43m,\u001b[49m\u001b[43m \u001b[49m\u001b[43mfile_path_id\u001b[49m\u001b[43m,\u001b[49m\u001b[43m \u001b[49m\u001b[43mt_scale\u001b[49m\u001b[43m,\u001b[49m\u001b[43m \u001b[49m\u001b[43msave_key\u001b[49m\u001b[43m)\u001b[49m\n\u001b[1;32m     89\u001b[0m \u001b[38;5;28;01mreturn\u001b[39;00m alphaf, egf, Wf\n",
      "File \u001b[0;32m~/Dropbox/DOC/svd_dyn/svd_learning/svdcy.pyx:49\u001b[0m, in \u001b[0;36msvdcy.cython_fit\u001b[0;34m()\u001b[0m\n\u001b[1;32m     47\u001b[0m \n\u001b[1;32m     48\u001b[0m \n\u001b[0;32m---> 49\u001b[0m cpdef cython_fit(long m_max, double[:,:] U0, double[:] sv, double[:,:] V0t, double[:] beta_t, double[:] a, double lrW, double lra, double noise, double x_scale, double tol, double t_max, plotlist, savelist, save_log, file_path_id, t_scale, save_key):\n\u001b[1;32m     50\u001b[0m \n\u001b[1;32m     51\u001b[0m     cdef unsigned int j, q, r, r_ , u, v, j1, s, p = V0t.shape[1], d = U0.shape[0], m = 1000\n",
      "File \u001b[0;32m~/Dropbox/DOC/svd_dyn/svd_learning/svdcy.pyx:163\u001b[0m, in \u001b[0;36msvdcy.cython_fit\u001b[0;34m()\u001b[0m\n\u001b[1;32m    161\u001b[0m \n\u001b[1;32m    162\u001b[0m             t0 = t1\n\u001b[0;32m--> 163\u001b[0m \n\u001b[1;32m    164\u001b[0m             if np.abs(eg_avj-eg_avj_old) < tol:\n\u001b[1;32m    165\u001b[0m                 tol_string = True\n",
      "\u001b[0;31mKeyboardInterrupt\u001b[0m: "
     ]
    }
   ],
   "source": [
    "kappa = 0                              # Hidden layer exponent \n",
    "delta = 0                              # Learning rate exponent\n",
    "\n",
    "simul = svd(d,p)                           # Initialize the class\n",
    "beta_t  = simul.set_teacher()    # orthWt: whether the teacher is delta_{rs} or not\n",
    "U0, sv0, V0t, a0 = simul.set_Theta0()                 # Gaussian uninformed initialization\n",
    "\n",
    "\n",
    "t, eg, _  = simul.fit(t_max= t_max, \n",
    "                      delta=delta, \n",
    "                      kappa=kappa,\n",
    "                      lrRF=1./np.sqrt(d), \n",
    "                      alpha=10.,\n",
    "                      noise= noise, \n",
    "                      tol= tol, \n",
    "                      save_folder= save_folder)"
   ]
  },
  {
   "cell_type": "code",
   "execution_count": null,
   "id": "db16438c-67af-4b52-810f-28e04cc29c9b",
   "metadata": {},
   "outputs": [],
   "source": []
  }
 ],
 "metadata": {
  "kernelspec": {
   "display_name": "Python 3 (ipykernel)",
   "language": "python",
   "name": "python3"
  },
  "language_info": {
   "codemirror_mode": {
    "name": "ipython",
    "version": 3
   },
   "file_extension": ".py",
   "mimetype": "text/x-python",
   "name": "python",
   "nbconvert_exporter": "python",
   "pygments_lexer": "ipython3",
   "version": "3.10.8"
  }
 },
 "nbformat": 4,
 "nbformat_minor": 5
}
