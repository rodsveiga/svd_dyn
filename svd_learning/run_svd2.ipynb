{
 "cells": [
  {
   "cell_type": "code",
   "execution_count": 1,
   "id": "d9635659-f10e-4bb9-9c8f-cf0ed2cab2d9",
   "metadata": {},
   "outputs": [],
   "source": [
    "import numpy as np\n",
    "import matplotlib.pyplot as plt\n",
    "from svd import svd"
   ]
  },
  {
   "cell_type": "code",
   "execution_count": 2,
   "id": "5492eae6-d36d-468b-bf37-cbb8965df26c",
   "metadata": {},
   "outputs": [],
   "source": [
    "d = 100                            # Number of input units                              # Number of teacher hidden units  \n",
    "p = 80                               # Number of student hidden units \n",
    "noise = 0.                       # Noise level\n",
    "t_max = 1e4                        # Maximum t on the respective time scaling\n",
    "tol = 0                            # Stops if abs(pop_risk_t - pop_risk_{t-1}) <= tol. If zero, stops on alpha_max\n",
    "save_folder = 'results/'          # Folder to save"
   ]
  },
  {
   "cell_type": "code",
   "execution_count": null,
   "id": "eea527d0-b4cf-463b-87ea-0ac324e2df06",
   "metadata": {},
   "outputs": [
    {
     "name": "stdout",
     "output_type": "stream",
     "text": [
      "- - - - SVD MODEL - - - -\n",
      "Noiseless linear teacher : y_t = beta x/sqrt(d)\n",
      "--- Phase diagram ---\n",
      "BLUE line: kappa + delta = 0\n",
      "Time scaling:  d1.0000\n",
      "--- Learning rates W / a ---\n",
      "lrRF = d0.1000\n",
      "alpha = d10.0000\n",
      "lr_W = alpha x lrRF\n",
      "d= 100,  p= 80, lrW= 1.000, lra= 0.100, noise= 0e+00 -- j= 0, alpha= 0e+00, eg= 0.4948353270, time= 0.00\n",
      "d = 100, p = 80, lrW = 1.000, lra = 0.100, noise= 0e+00 -- j = 100, alpha = 1e+00, eg = 0.4937485652, time = 0.56\n",
      "d = 100, p = 80, lrW = 1.000, lra = 0.100, noise= 0e+00 -- j = 200, alpha = 2e+00, eg = 0.4932274870, time = 0.52\n",
      "d = 100, p = 80, lrW = 1.000, lra = 0.100, noise= 0e+00 -- j = 300, alpha = 3e+00, eg = 0.4925587054, time = 0.53\n",
      "d = 100, p = 80, lrW = 1.000, lra = 0.100, noise= 0e+00 -- j = 400, alpha = 4e+00, eg = 0.4920017100, time = 0.52\n",
      "d = 100, p = 80, lrW = 1.000, lra = 0.100, noise= 0e+00 -- j = 500, alpha = 5e+00, eg = 0.4911337940, time = 0.54\n",
      "d = 100, p = 80, lrW = 1.000, lra = 0.100, noise= 0e+00 -- j = 600, alpha = 6e+00, eg = 0.4905747530, time = 0.53\n",
      "d = 100, p = 80, lrW = 1.000, lra = 0.100, noise= 0e+00 -- j = 700, alpha = 7e+00, eg = 0.4902417234, time = 0.52\n",
      "d = 100, p = 80, lrW = 1.000, lra = 0.100, noise= 0e+00 -- j = 800, alpha = 8e+00, eg = 0.4895572850, time = 0.52\n",
      "d = 100, p = 80, lrW = 1.000, lra = 0.100, noise= 0e+00 -- j = 900, alpha = 9e+00, eg = 0.4888802986, time = 0.52\n",
      "d = 100, p = 80, lrW = 1.000, lra = 0.100, noise= 0e+00 -- j = 1000, alpha = 1e+01, eg = 0.4886183326, time = 0.52\n",
      "d = 100, p = 80, lrW = 1.000, lra = 0.100, noise= 0e+00 -- j = 2000, alpha = 2e+01, eg = 0.4823225146, time = 5.06\n",
      "d = 100, p = 80, lrW = 1.000, lra = 0.100, noise= 0e+00 -- j = 3000, alpha = 3e+01, eg = 0.4768715570, time = 5.82\n",
      "d = 100, p = 80, lrW = 1.000, lra = 0.100, noise= 0e+00 -- j = 4000, alpha = 4e+01, eg = 0.4704755822, time = 7.13\n",
      "d = 100, p = 80, lrW = 1.000, lra = 0.100, noise= 0e+00 -- j = 5000, alpha = 5e+01, eg = 0.4648438306, time = 9.32\n",
      "d = 100, p = 80, lrW = 1.000, lra = 0.100, noise= 0e+00 -- j = 6000, alpha = 6e+01, eg = 0.4598562686, time = 9.18\n",
      "d = 100, p = 80, lrW = 1.000, lra = 0.100, noise= 0e+00 -- j = 7000, alpha = 7e+01, eg = 0.4559158211, time = 8.64\n",
      "d = 100, p = 80, lrW = 1.000, lra = 0.100, noise= 0e+00 -- j = 8000, alpha = 8e+01, eg = 0.4506326294, time = 8.16\n",
      "d = 100, p = 80, lrW = 1.000, lra = 0.100, noise= 0e+00 -- j = 9000, alpha = 9e+01, eg = 0.4451784117, time = 7.77\n",
      "d = 100, p = 80, lrW = 1.000, lra = 0.100, noise= 0e+00 -- j = 10000, alpha = 1e+02, eg = 0.4406117463, time = 8.42\n",
      "d = 100, p = 80, lrW = 1.000, lra = 0.100, noise= 0e+00 -- j = 20000, alpha = 2e+02, eg = 0.3980985999, time = 80.55\n",
      "d = 100, p = 80, lrW = 1.000, lra = 0.100, noise= 0e+00 -- j = 30000, alpha = 3e+02, eg = 0.3582495641, time = 91.72\n",
      "d = 100, p = 80, lrW = 1.000, lra = 0.100, noise= 0e+00 -- j = 40000, alpha = 4e+02, eg = 0.3225550670, time = 88.01\n",
      "d = 100, p = 80, lrW = 1.000, lra = 0.100, noise= 0e+00 -- j = 50000, alpha = 5e+02, eg = 0.2912772231, time = 76.52\n",
      "d = 100, p = 80, lrW = 1.000, lra = 0.100, noise= 0e+00 -- j = 60000, alpha = 6e+02, eg = 0.2594118610, time = 74.39\n",
      "d = 100, p = 80, lrW = 1.000, lra = 0.100, noise= 0e+00 -- j = 70000, alpha = 7e+02, eg = 0.2305503487, time = 73.26\n",
      "d = 100, p = 80, lrW = 1.000, lra = 0.100, noise= 0e+00 -- j = 80000, alpha = 8e+02, eg = 0.2094889503, time = 78.43\n",
      "d = 100, p = 80, lrW = 1.000, lra = 0.100, noise= 0e+00 -- j = 90000, alpha = 9e+02, eg = 0.1957005985, time = 77.63\n",
      "d = 100, p = 80, lrW = 1.000, lra = 0.100, noise= 0e+00 -- j = 100000, alpha = 1e+03, eg = 0.1875934818, time = 75.82\n",
      "d = 100, p = 80, lrW = 1.000, lra = 0.100, noise= 0e+00 -- j = 200000, alpha = 2e+03, eg = 0.1698013133, time = 765.68\n",
      "d = 100, p = 80, lrW = 1.000, lra = 0.100, noise= 0e+00 -- j = 300000, alpha = 3e+03, eg = 0.1644904034, time = 727.05\n",
      "d = 100, p = 80, lrW = 1.000, lra = 0.100, noise= 0e+00 -- j = 400000, alpha = 4e+03, eg = 0.1640686291, time = 769.94\n"
     ]
    }
   ],
   "source": [
    "kappa = 0                              # Hidden layer exponent \n",
    "delta = 0                              # Learning rate exponent\n",
    "\n",
    "simul = svd(d,p)                           # Initialize the class\n",
    "beta_t  = simul.set_teacher()    # orthWt: whether the teacher is delta_{rs} or not\n",
    "U0, sv0, V0t, a0 = simul.set_Theta0()                 # Gaussian uninformed initialization\n",
    "\n",
    "\n",
    "t, eg, _  = simul.fit(t_max= t_max, \n",
    "                      delta=delta, \n",
    "                      kappa=kappa,\n",
    "                      lrRF=1./np.sqrt(d), \n",
    "                      alpha=10.,\n",
    "                      noise= noise, \n",
    "                      tol= tol, \n",
    "                      save_folder= save_folder)"
   ]
  },
  {
   "cell_type": "code",
   "execution_count": null,
   "id": "db16438c-67af-4b52-810f-28e04cc29c9b",
   "metadata": {},
   "outputs": [],
   "source": []
  }
 ],
 "metadata": {
  "kernelspec": {
   "display_name": "Python 3 (ipykernel)",
   "language": "python",
   "name": "python3"
  },
  "language_info": {
   "codemirror_mode": {
    "name": "ipython",
    "version": 3
   },
   "file_extension": ".py",
   "mimetype": "text/x-python",
   "name": "python",
   "nbconvert_exporter": "python",
   "pygments_lexer": "ipython3",
   "version": "3.10.8"
  }
 },
 "nbformat": 4,
 "nbformat_minor": 5
}
