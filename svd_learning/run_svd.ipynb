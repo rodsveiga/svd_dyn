{
 "cells": [
  {
   "cell_type": "code",
   "execution_count": 10,
   "id": "d9635659-f10e-4bb9-9c8f-cf0ed2cab2d9",
   "metadata": {},
   "outputs": [],
   "source": [
    "import numpy as np\n",
    "import matplotlib.pyplot as plt\n",
    "from svd import svd"
   ]
  },
  {
   "cell_type": "code",
   "execution_count": 13,
   "id": "5492eae6-d36d-468b-bf37-cbb8965df26c",
   "metadata": {},
   "outputs": [],
   "source": [
    "d = 100                            # Number of input units                              # Number of teacher hidden units  \n",
    "p = 80                               # Number of student hidden units \n",
    "noise = 0.                       # Noise level\n",
    "t_max = 1e4                        # Maximum t on the respective time scaling\n",
    "tol = 0                            # Stops if abs(pop_risk_t - pop_risk_{t-1}) <= tol. If zero, stops on alpha_max\n",
    "save_folder = 'results/'          # Folder to save\n",
    "lrW0 = 1. / np.sqrt(d)\n",
    "lra0 = 1. / np.sqrt(d)"
   ]
  },
  {
   "cell_type": "code",
   "execution_count": null,
   "id": "eea527d0-b4cf-463b-87ea-0ac324e2df06",
   "metadata": {},
   "outputs": [
    {
     "name": "stdout",
     "output_type": "stream",
     "text": [
      "- - - SVD MODEL - - -\n",
      "Noiseless linear teacher : y_t = beta x/sqrt(d)\n",
      "BLUE line: kappa + delta = 0\n",
      "alpha_scale:  d1.0000\n",
      "d= 100,  p= 80, lrW= 0.100, lra= 0.100, noise= 0e+00 -- j= 0, alpha= 0e+00, eg= 0.4565362317, time= 0.00\n",
      "d = 100, p = 80, lrW = 0.100, lra = 0.100, noise= 0e+00 -- j = 100, alpha = 1e+00, eg = 0.4564802566, time = 0.59\n",
      "d = 100, p = 80, lrW = 0.100, lra = 0.100, noise= 0e+00 -- j = 200, alpha = 2e+00, eg = 0.4564296050, time = 0.58\n",
      "d = 100, p = 80, lrW = 0.100, lra = 0.100, noise= 0e+00 -- j = 300, alpha = 3e+00, eg = 0.4563382035, time = 0.57\n",
      "d = 100, p = 80, lrW = 0.100, lra = 0.100, noise= 0e+00 -- j = 400, alpha = 4e+00, eg = 0.4562497036, time = 0.56\n",
      "d = 100, p = 80, lrW = 0.100, lra = 0.100, noise= 0e+00 -- j = 500, alpha = 5e+00, eg = 0.4561820101, time = 0.58\n",
      "d = 100, p = 80, lrW = 0.100, lra = 0.100, noise= 0e+00 -- j = 600, alpha = 6e+00, eg = 0.4561110909, time = 0.57\n",
      "d = 100, p = 80, lrW = 0.100, lra = 0.100, noise= 0e+00 -- j = 700, alpha = 7e+00, eg = 0.4560595018, time = 0.57\n",
      "d = 100, p = 80, lrW = 0.100, lra = 0.100, noise= 0e+00 -- j = 800, alpha = 8e+00, eg = 0.4559863706, time = 0.56\n",
      "d = 100, p = 80, lrW = 0.100, lra = 0.100, noise= 0e+00 -- j = 900, alpha = 9e+00, eg = 0.4558903318, time = 0.57\n",
      "d = 100, p = 80, lrW = 0.100, lra = 0.100, noise= 0e+00 -- j = 1000, alpha = 1e+01, eg = 0.4558247215, time = 0.57\n",
      "d = 100, p = 80, lrW = 0.100, lra = 0.100, noise= 0e+00 -- j = 2000, alpha = 2e+01, eg = 0.4550282194, time = 5.59\n",
      "d = 100, p = 80, lrW = 0.100, lra = 0.100, noise= 0e+00 -- j = 3000, alpha = 3e+01, eg = 0.4542773651, time = 8.06\n",
      "d = 100, p = 80, lrW = 0.100, lra = 0.100, noise= 0e+00 -- j = 4000, alpha = 4e+01, eg = 0.4534944284, time = 7.61\n",
      "d = 100, p = 80, lrW = 0.100, lra = 0.100, noise= 0e+00 -- j = 5000, alpha = 5e+01, eg = 0.4527618263, time = 8.55\n",
      "d = 100, p = 80, lrW = 0.100, lra = 0.100, noise= 0e+00 -- j = 6000, alpha = 6e+01, eg = 0.4519835237, time = 7.60\n",
      "d = 100, p = 80, lrW = 0.100, lra = 0.100, noise= 0e+00 -- j = 7000, alpha = 7e+01, eg = 0.4511661712, time = 7.55\n",
      "d = 100, p = 80, lrW = 0.100, lra = 0.100, noise= 0e+00 -- j = 8000, alpha = 8e+01, eg = 0.4503394840, time = 8.08\n",
      "d = 100, p = 80, lrW = 0.100, lra = 0.100, noise= 0e+00 -- j = 9000, alpha = 9e+01, eg = 0.4495718940, time = 7.90\n",
      "d = 100, p = 80, lrW = 0.100, lra = 0.100, noise= 0e+00 -- j = 10000, alpha = 1e+02, eg = 0.4487946150, time = 7.68\n",
      "d = 100, p = 80, lrW = 0.100, lra = 0.100, noise= 0e+00 -- j = 20000, alpha = 2e+02, eg = 0.4400983296, time = 77.05\n",
      "d = 100, p = 80, lrW = 0.100, lra = 0.100, noise= 0e+00 -- j = 30000, alpha = 3e+02, eg = 0.4294315160, time = 76.15\n",
      "d = 100, p = 80, lrW = 0.100, lra = 0.100, noise= 0e+00 -- j = 40000, alpha = 4e+02, eg = 0.4156410793, time = 79.17\n",
      "d = 100, p = 80, lrW = 0.100, lra = 0.100, noise= 0e+00 -- j = 50000, alpha = 5e+02, eg = 0.3988732676, time = 76.59\n",
      "d = 100, p = 80, lrW = 0.100, lra = 0.100, noise= 0e+00 -- j = 60000, alpha = 6e+02, eg = 0.3778998397, time = 82.41\n",
      "d = 100, p = 80, lrW = 0.100, lra = 0.100, noise= 0e+00 -- j = 70000, alpha = 7e+02, eg = 0.3550794829, time = 83.70\n",
      "d = 100, p = 80, lrW = 0.100, lra = 0.100, noise= 0e+00 -- j = 80000, alpha = 8e+02, eg = 0.3309765346, time = 91.22\n",
      "d = 100, p = 80, lrW = 0.100, lra = 0.100, noise= 0e+00 -- j = 90000, alpha = 9e+02, eg = 0.3097465609, time = 74.92\n",
      "d = 100, p = 80, lrW = 0.100, lra = 0.100, noise= 0e+00 -- j = 100000, alpha = 1e+03, eg = 0.2911135709, time = 77.13\n",
      "d = 100, p = 80, lrW = 0.100, lra = 0.100, noise= 0e+00 -- j = 200000, alpha = 2e+03, eg = 0.1811636052, time = 783.16\n",
      "d = 100, p = 80, lrW = 0.100, lra = 0.100, noise= 0e+00 -- j = 300000, alpha = 3e+03, eg = 0.1239896206, time = 789.49\n"
     ]
    }
   ],
   "source": [
    "kappa = 0                              # Hidden layer exponent \n",
    "delta = 0                              # Learning rate exponent\n",
    "\n",
    "simul = svd(d,p)                           # Initialize the class\n",
    "beta_t  = simul.set_teacher()    # orthWt: whether the teacher is delta_{rs} or not\n",
    "U0, sv0, V0t, a0 = simul.set_Theta0()                 # Gaussian uninformed initialization\n",
    "\n",
    "\n",
    "t, eg, _  = simul.fit(alpha_max= t_max, \n",
    "                      delta=delta, \n",
    "                      kappa=kappa,\n",
    "                      lrW0= lrW0,  \n",
    "                      lra0= lra0,  \n",
    "                      noise= noise, \n",
    "                      tol= tol, \n",
    "                      save_folder= save_folder)"
   ]
  },
  {
   "cell_type": "code",
   "execution_count": null,
   "id": "db16438c-67af-4b52-810f-28e04cc29c9b",
   "metadata": {},
   "outputs": [],
   "source": []
  }
 ],
 "metadata": {
  "kernelspec": {
   "display_name": "Python 3 (ipykernel)",
   "language": "python",
   "name": "python3"
  },
  "language_info": {
   "codemirror_mode": {
    "name": "ipython",
    "version": 3
   },
   "file_extension": ".py",
   "mimetype": "text/x-python",
   "name": "python",
   "nbconvert_exporter": "python",
   "pygments_lexer": "ipython3",
   "version": "3.10.8"
  }
 },
 "nbformat": 4,
 "nbformat_minor": 5
}
