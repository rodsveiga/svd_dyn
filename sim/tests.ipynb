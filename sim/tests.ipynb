{
 "cells": [
  {
   "cell_type": "code",
   "execution_count": 1,
   "id": "d7d90232-df3a-4230-936b-2530c3050d26",
   "metadata": {},
   "outputs": [],
   "source": [
    "import numpy as np\n",
    "import matplotlib.pyplot as plt\n",
    "#from sklearn.preprocessing import normalize\n",
    "import matplotlib as mpl\n",
    "import matplotlib.pylab as pl\n",
    "\n",
    "# Paper font style\n",
    "rc_fonts = {\n",
    "    'font.family': 'serif',\n",
    "    'figure.figsize': (10, 6),\n",
    "    'text.usetex': True,\n",
    "    #'text.latex.preview': True,\n",
    "    'text.latex.preamble': r\"\\usepackage[cal=euler]{mathalfa} \\usepackage{libertine} \\usepackage[libertine,smallerops]{newtxmath} \\usepackage[T1]{fontenc}\"\n",
    "}\n",
    "\n",
    "#mpl.rcParams.update(rc_fonts)"
   ]
  },
  {
   "cell_type": "code",
   "execution_count": 2,
   "id": "653c1a86-43da-479a-b67a-e372b0dea98f",
   "metadata": {},
   "outputs": [],
   "source": [
    "from sim import sim"
   ]
  },
  {
   "cell_type": "code",
   "execution_count": 4,
   "id": "2354addc-1d9a-48dd-8752-7f08ae551867",
   "metadata": {},
   "outputs": [],
   "source": [
    "d = 100                            # Number of input units \n",
    "k = 4                              # Number of teacher hidden units  \n",
    "p = 8                              # Number of student hidden units \n",
    "noise = 1e-3                       # Noise level\n",
    "t_max = 1e4                        # Maximum t on the respective time scaling\n",
    "tol = 0                            # Stops if abs(pop_risk_t - pop_risk_{t-1}) <= tol. If zero, stops on alpha_max\n",
    "save_folder = 'results/run_tests/' # Folder to save\n",
    "gamma_0 = p / np.sqrt(d)           # Gamma zero"
   ]
  },
  {
   "cell_type": "code",
   "execution_count": 5,
   "id": "28a97ae6-7ca3-48a5-adcc-59dbb2ff73de",
   "metadata": {},
   "outputs": [
    {
     "name": "stdout",
     "output_type": "stream",
     "text": [
      "BLUE line: kappa + delta = 0\n",
      "alpha_scale:  d1.0000\n",
      "Second layer weights will also be trained\n",
      "Committees normalized with 1/p and 1/k\n",
      "Wt orthogonal\n",
      "Linear teacher: f(x) = x\n",
      "Teacher with additive output noise: y_t = f + sqrt(noise)*xi ; noise= 1e-03\n",
      "savelist=  [    100    1000   10000  100000 1000000]\n",
      "d= 100, k= 4, p= 8, lrW= 0.800, lra= 0.800, noise= 1e-03 -- j= 0, alpha= 0e+00, eg= 0.1352131311, time= 0.00\n",
      "d = 100, k = 4, p = 8, lrW = 0.800, lra = 0.800, noise= 1e-03 -- j = 100, alpha = 1e+00, eg = 0.1352030376, time = 0.20\n",
      "d = 100, k = 4, p = 8, lrW = 0.800, lra = 0.800, noise= 1e-03 -- j = 200, alpha = 2e+00, eg = 0.1351942513, time = 0.03\n",
      "d = 100, k = 4, p = 8, lrW = 0.800, lra = 0.800, noise= 1e-03 -- j = 300, alpha = 3e+00, eg = 0.1351881399, time = 0.02\n",
      "d = 100, k = 4, p = 8, lrW = 0.800, lra = 0.800, noise= 1e-03 -- j = 400, alpha = 4e+00, eg = 0.1351799639, time = 0.02\n",
      "d = 100, k = 4, p = 8, lrW = 0.800, lra = 0.800, noise= 1e-03 -- j = 500, alpha = 5e+00, eg = 0.1351737995, time = 0.02\n",
      "d = 100, k = 4, p = 8, lrW = 0.800, lra = 0.800, noise= 1e-03 -- j = 600, alpha = 6e+00, eg = 0.1351654352, time = 0.02\n",
      "d = 100, k = 4, p = 8, lrW = 0.800, lra = 0.800, noise= 1e-03 -- j = 700, alpha = 7e+00, eg = 0.1351585223, time = 0.02\n",
      "d = 100, k = 4, p = 8, lrW = 0.800, lra = 0.800, noise= 1e-03 -- j = 800, alpha = 8e+00, eg = 0.1351520487, time = 0.02\n",
      "d = 100, k = 4, p = 8, lrW = 0.800, lra = 0.800, noise= 1e-03 -- j = 900, alpha = 9e+00, eg = 0.1351472259, time = 0.02\n",
      "d = 100, k = 4, p = 8, lrW = 0.800, lra = 0.800, noise= 1e-03 -- j = 1000, alpha = 1e+01, eg = 0.1351423428, time = 0.02\n",
      "d = 100, k = 4, p = 8, lrW = 0.800, lra = 0.800, noise= 1e-03 -- j = 2000, alpha = 2e+01, eg = 0.1350721332, time = 0.22\n",
      "d = 100, k = 4, p = 8, lrW = 0.800, lra = 0.800, noise= 1e-03 -- j = 3000, alpha = 3e+01, eg = 0.1350144899, time = 0.26\n",
      "d = 100, k = 4, p = 8, lrW = 0.800, lra = 0.800, noise= 1e-03 -- j = 4000, alpha = 4e+01, eg = 0.1349588195, time = 0.26\n",
      "d = 100, k = 4, p = 8, lrW = 0.800, lra = 0.800, noise= 1e-03 -- j = 5000, alpha = 5e+01, eg = 0.1348977430, time = 0.24\n",
      "d = 100, k = 4, p = 8, lrW = 0.800, lra = 0.800, noise= 1e-03 -- j = 6000, alpha = 6e+01, eg = 0.1348525330, time = 0.22\n",
      "d = 100, k = 4, p = 8, lrW = 0.800, lra = 0.800, noise= 1e-03 -- j = 7000, alpha = 7e+01, eg = 0.1347947516, time = 0.23\n",
      "d = 100, k = 4, p = 8, lrW = 0.800, lra = 0.800, noise= 1e-03 -- j = 8000, alpha = 8e+01, eg = 0.1347275830, time = 0.23\n",
      "d = 100, k = 4, p = 8, lrW = 0.800, lra = 0.800, noise= 1e-03 -- j = 9000, alpha = 9e+01, eg = 0.1346490347, time = 0.22\n",
      "d = 100, k = 4, p = 8, lrW = 0.800, lra = 0.800, noise= 1e-03 -- j = 10000, alpha = 1e+02, eg = 0.1345793472, time = 0.22\n",
      "d = 100, k = 4, p = 8, lrW = 0.800, lra = 0.800, noise= 1e-03 -- j = 20000, alpha = 2e+02, eg = 0.1337288783, time = 2.25\n",
      "d = 100, k = 4, p = 8, lrW = 0.800, lra = 0.800, noise= 1e-03 -- j = 30000, alpha = 3e+02, eg = 0.1336157745, time = 2.16\n",
      "d = 100, k = 4, p = 8, lrW = 0.800, lra = 0.800, noise= 1e-03 -- j = 40000, alpha = 4e+02, eg = 0.1331370159, time = 2.19\n",
      "d = 100, k = 4, p = 8, lrW = 0.800, lra = 0.800, noise= 1e-03 -- j = 50000, alpha = 5e+02, eg = 0.1326328117, time = 2.22\n",
      "d = 100, k = 4, p = 8, lrW = 0.800, lra = 0.800, noise= 1e-03 -- j = 60000, alpha = 6e+02, eg = 0.1322726995, time = 2.10\n",
      "d = 100, k = 4, p = 8, lrW = 0.800, lra = 0.800, noise= 1e-03 -- j = 70000, alpha = 7e+02, eg = 0.1319949233, time = 2.12\n",
      "d = 100, k = 4, p = 8, lrW = 0.800, lra = 0.800, noise= 1e-03 -- j = 80000, alpha = 8e+02, eg = 0.1317470681, time = 2.11\n",
      "d = 100, k = 4, p = 8, lrW = 0.800, lra = 0.800, noise= 1e-03 -- j = 90000, alpha = 9e+02, eg = 0.1318105873, time = 2.11\n",
      "d = 100, k = 4, p = 8, lrW = 0.800, lra = 0.800, noise= 1e-03 -- j = 100000, alpha = 1e+03, eg = 0.1323345351, time = 2.12\n",
      "d = 100, k = 4, p = 8, lrW = 0.800, lra = 0.800, noise= 1e-03 -- j = 200000, alpha = 2e+03, eg = 0.1311667084, time = 24.84\n",
      "d = 100, k = 4, p = 8, lrW = 0.800, lra = 0.800, noise= 1e-03 -- j = 300000, alpha = 3e+03, eg = 0.1304791063, time = 24.68\n",
      "d = 100, k = 4, p = 8, lrW = 0.800, lra = 0.800, noise= 1e-03 -- j = 400000, alpha = 4e+03, eg = 0.1295478015, time = 24.76\n",
      "d = 100, k = 4, p = 8, lrW = 0.800, lra = 0.800, noise= 1e-03 -- j = 500000, alpha = 5e+03, eg = 0.1298044703, time = 24.79\n",
      "d = 100, k = 4, p = 8, lrW = 0.800, lra = 0.800, noise= 1e-03 -- j = 600000, alpha = 6e+03, eg = 0.1289911130, time = 24.73\n",
      "d = 100, k = 4, p = 8, lrW = 0.800, lra = 0.800, noise= 1e-03 -- j = 700000, alpha = 7e+03, eg = 0.1294841009, time = 25.86\n",
      "d = 100, k = 4, p = 8, lrW = 0.800, lra = 0.800, noise= 1e-03 -- j = 800000, alpha = 8e+03, eg = 0.1291250527, time = 25.74\n",
      "d = 100, k = 4, p = 8, lrW = 0.800, lra = 0.800, noise= 1e-03 -- j = 900000, alpha = 9e+03, eg = 0.1297308045, time = 24.24\n",
      "d = 100, k = 4, p = 8, lrW = 0.800, lra = 0.800, noise= 1e-03 -- j = 1000000, alpha = 1e+04, eg = 0.1309141384, time = 24.14\n",
      "Terminating: alpha = 1e+04 (alpha_max)\n"
     ]
    }
   ],
   "source": [
    "kappa = 0                              # Hidden layer exponent \n",
    "delta = 0                              # Learning rate exponent\n",
    "\n",
    "simul = sim(d,p,k, train_a= True, svd_only=True)                      # Initialize the class\n",
    "Wt, at = simul.set_teacher(orthWt= True)    # orthWt: whether the teacher is delta_{rs} or not\n",
    "W0, a0 = simul.set_Theta0()                     # Gaussian uninformed initialization\n",
    "\n",
    "t, eg, Wf, _ = simul.fit(alpha_max= t_max, \n",
    "                         delta=delta, \n",
    "                         kappa=kappa, \n",
    "                         lrW0= gamma_0, \n",
    "                         lra0= gamma_0,  \n",
    "                         noise= noise, \n",
    "                         lin_teacher= True, \n",
    "                         tol= tol, \n",
    "                         save_log= True,\n",
    "                         save_folder= save_folder)"
   ]
  },
  {
   "cell_type": "code",
   "execution_count": 6,
   "id": "73569aa3-d8ce-446f-9d7a-7a8259b19a66",
   "metadata": {},
   "outputs": [],
   "source": [
    "d = 100                            # Number of input units \n",
    "k = 4                              # Number of teacher hidden units  \n",
    "p = 8                              # Number of student hidden units \n",
    "noise = 1e-3                       # Noise level\n",
    "t_max = 1e4                        # Maximum t on the respective time scaling\n",
    "tol = 0                            # Stops if abs(pop_risk_t - pop_risk_{t-1}) <= tol. If zero, stops on alpha_max\n",
    "save_folder = 'results/run_tests/' # Folder to save\n",
    "gamma_0 = p        "
   ]
  },
  {
   "cell_type": "code",
   "execution_count": 8,
   "id": "6141d5b1-0122-4a84-a37a-b43ced78131c",
   "metadata": {},
   "outputs": [
    {
     "name": "stdout",
     "output_type": "stream",
     "text": [
      "BLUE line: kappa + delta = 0\n",
      "alpha_scale:  d1.0000\n",
      "Second layer weights will also be trained\n",
      "Committees normalized with 1/p and 1/k\n",
      "Wt orthogonal\n",
      "Linear teacher: f(x) = x\n",
      "Teacher with additive output noise: y_t = f + sqrt(noise)*xi ; noise= 1e-03\n",
      "savelist=  [    100    1000   10000  100000 1000000]\n",
      "d= 100, k= 4, p= 8, lrW= 8.000, lra= 8.000, noise= 1e-03 -- j= 0, alpha= 0e+00, eg= 0.1317061424, time= 0.00\n",
      "d = 100, k = 4, p = 8, lrW = 8.000, lra = 8.000, noise= 1e-03 -- j = 100, alpha = 1e+00, eg = 0.1315659271, time = 0.19\n",
      "d = 100, k = 4, p = 8, lrW = 8.000, lra = 8.000, noise= 1e-03 -- j = 200, alpha = 2e+00, eg = 0.1315025670, time = 0.03\n",
      "d = 100, k = 4, p = 8, lrW = 8.000, lra = 8.000, noise= 1e-03 -- j = 300, alpha = 3e+00, eg = 0.1314279318, time = 0.03\n",
      "d = 100, k = 4, p = 8, lrW = 8.000, lra = 8.000, noise= 1e-03 -- j = 400, alpha = 4e+00, eg = 0.1314262609, time = 0.02\n",
      "d = 100, k = 4, p = 8, lrW = 8.000, lra = 8.000, noise= 1e-03 -- j = 500, alpha = 5e+00, eg = 0.1314054481, time = 0.02\n",
      "d = 100, k = 4, p = 8, lrW = 8.000, lra = 8.000, noise= 1e-03 -- j = 600, alpha = 6e+00, eg = 0.1312334401, time = 0.02\n",
      "d = 100, k = 4, p = 8, lrW = 8.000, lra = 8.000, noise= 1e-03 -- j = 700, alpha = 7e+00, eg = 0.1310968487, time = 0.02\n",
      "d = 100, k = 4, p = 8, lrW = 8.000, lra = 8.000, noise= 1e-03 -- j = 800, alpha = 8e+00, eg = 0.1309438509, time = 0.02\n",
      "d = 100, k = 4, p = 8, lrW = 8.000, lra = 8.000, noise= 1e-03 -- j = 900, alpha = 9e+00, eg = 0.1308727448, time = 0.02\n",
      "d = 100, k = 4, p = 8, lrW = 8.000, lra = 8.000, noise= 1e-03 -- j = 1000, alpha = 1e+01, eg = 0.1307962006, time = 0.02\n",
      "d = 100, k = 4, p = 8, lrW = 8.000, lra = 8.000, noise= 1e-03 -- j = 2000, alpha = 2e+01, eg = 0.1301433644, time = 0.21\n",
      "d = 100, k = 4, p = 8, lrW = 8.000, lra = 8.000, noise= 1e-03 -- j = 3000, alpha = 3e+01, eg = 0.1290085970, time = 0.21\n",
      "d = 100, k = 4, p = 8, lrW = 8.000, lra = 8.000, noise= 1e-03 -- j = 4000, alpha = 4e+01, eg = 0.1304781519, time = 0.21\n",
      "d = 100, k = 4, p = 8, lrW = 8.000, lra = 8.000, noise= 1e-03 -- j = 5000, alpha = 5e+01, eg = 0.1338291404, time = 0.22\n",
      "d = 100, k = 4, p = 8, lrW = 8.000, lra = 8.000, noise= 1e-03 -- j = 6000, alpha = 6e+01, eg = 0.1347538642, time = 0.21\n",
      "d = 100, k = 4, p = 8, lrW = 8.000, lra = 8.000, noise= 1e-03 -- j = 7000, alpha = 7e+01, eg = 0.1285615146, time = 0.21\n",
      "d = 100, k = 4, p = 8, lrW = 8.000, lra = 8.000, noise= 1e-03 -- j = 8000, alpha = 8e+01, eg = 0.1281365933, time = 0.21\n",
      "d = 100, k = 4, p = 8, lrW = 8.000, lra = 8.000, noise= 1e-03 -- j = 9000, alpha = 9e+01, eg = 0.1336971587, time = 0.21\n",
      "d = 100, k = 4, p = 8, lrW = 8.000, lra = 8.000, noise= 1e-03 -- j = 10000, alpha = 1e+02, eg = 0.1367683498, time = 0.22\n",
      "d = 100, k = 4, p = 8, lrW = 8.000, lra = 8.000, noise= 1e-03 -- j = 20000, alpha = 2e+02, eg = 0.1334131718, time = 2.17\n",
      "d = 100, k = 4, p = 8, lrW = 8.000, lra = 8.000, noise= 1e-03 -- j = 30000, alpha = 3e+02, eg = 0.1325628454, time = 2.18\n",
      "d = 100, k = 4, p = 8, lrW = 8.000, lra = 8.000, noise= 1e-03 -- j = 40000, alpha = 4e+02, eg = 0.1309005553, time = 2.17\n",
      "d = 100, k = 4, p = 8, lrW = 8.000, lra = 8.000, noise= 1e-03 -- j = 50000, alpha = 5e+02, eg = 0.1327464120, time = 2.17\n",
      "d = 100, k = 4, p = 8, lrW = 8.000, lra = 8.000, noise= 1e-03 -- j = 60000, alpha = 6e+02, eg = 0.1407472242, time = 2.23\n",
      "d = 100, k = 4, p = 8, lrW = 8.000, lra = 8.000, noise= 1e-03 -- j = 70000, alpha = 7e+02, eg = 0.1292774103, time = 2.13\n",
      "d = 100, k = 4, p = 8, lrW = 8.000, lra = 8.000, noise= 1e-03 -- j = 80000, alpha = 8e+02, eg = 0.1239570948, time = 2.23\n",
      "d = 100, k = 4, p = 8, lrW = 8.000, lra = 8.000, noise= 1e-03 -- j = 90000, alpha = 9e+02, eg = 0.1245308846, time = 2.17\n",
      "d = 100, k = 4, p = 8, lrW = 8.000, lra = 8.000, noise= 1e-03 -- j = 100000, alpha = 1e+03, eg = 0.1314515010, time = 2.17\n",
      "d = 100, k = 4, p = 8, lrW = 8.000, lra = 8.000, noise= 1e-03 -- j = 200000, alpha = 2e+03, eg = 0.1253417721, time = 25.40\n",
      "d = 100, k = 4, p = 8, lrW = 8.000, lra = 8.000, noise= 1e-03 -- j = 300000, alpha = 3e+03, eg = 0.1277795327, time = 25.46\n",
      "d = 100, k = 4, p = 8, lrW = 8.000, lra = 8.000, noise= 1e-03 -- j = 400000, alpha = 4e+03, eg = 0.1302780576, time = 25.56\n",
      "d = 100, k = 4, p = 8, lrW = 8.000, lra = 8.000, noise= 1e-03 -- j = 500000, alpha = 5e+03, eg = 0.1237550860, time = 25.83\n",
      "d = 100, k = 4, p = 8, lrW = 8.000, lra = 8.000, noise= 1e-03 -- j = 600000, alpha = 6e+03, eg = 0.1334050718, time = 25.74\n",
      "d = 100, k = 4, p = 8, lrW = 8.000, lra = 8.000, noise= 1e-03 -- j = 700000, alpha = 7e+03, eg = 0.1242141929, time = 24.88\n",
      "d = 100, k = 4, p = 8, lrW = 8.000, lra = 8.000, noise= 1e-03 -- j = 800000, alpha = 8e+03, eg = 0.1278497349, time = 26.31\n",
      "d = 100, k = 4, p = 8, lrW = 8.000, lra = 8.000, noise= 1e-03 -- j = 900000, alpha = 9e+03, eg = 0.1668797495, time = 24.72\n",
      "d = 100, k = 4, p = 8, lrW = 8.000, lra = 8.000, noise= 1e-03 -- j = 1000000, alpha = 1e+04, eg = 0.1264753753, time = 24.79\n",
      "Terminating: alpha = 1e+04 (alpha_max)\n"
     ]
    }
   ],
   "source": [
    "kappa = 0                              # Hidden layer exponent \n",
    "delta = 0                              # Learning rate exponent\n",
    "\n",
    "simul = sim(d,p,k, train_a= True, svd_only=True)                      # Initialize the class\n",
    "Wt, at = simul.set_teacher(orthWt= True)    # orthWt: whether the teacher is delta_{rs} or not\n",
    "W0, a0 = simul.set_Theta0()                     # Gaussian uninformed initialization\n",
    "\n",
    "t, eg, Wf, _ = simul.fit(alpha_max= t_max, \n",
    "                         delta=delta, \n",
    "                         kappa=kappa, \n",
    "                         lrW0= gamma_0, \n",
    "                         lra0= gamma_0,  \n",
    "                         noise= noise, \n",
    "                         lin_teacher= True, \n",
    "                         tol= tol, \n",
    "                         save_log= True,\n",
    "                         save_folder= save_folder)"
   ]
  },
  {
   "cell_type": "code",
   "execution_count": null,
   "id": "1f790399-8880-4806-9e8e-f1082c284b0c",
   "metadata": {},
   "outputs": [],
   "source": []
  },
  {
   "cell_type": "code",
   "execution_count": 4,
   "id": "f6f62656-77e6-4d10-a94b-578b3d22ad58",
   "metadata": {},
   "outputs": [
    {
     "name": "stdout",
     "output_type": "stream",
     "text": [
      "BLUE line: kappa + delta = 0\n",
      "alpha_scale:  d1.0000\n",
      "Committees normalized with 1/p and 1/k\n",
      "Second layer weights a will also be trained\n",
      "Wt orthogonal\n",
      "Teacher with additive output noise: y_t = f + sqrt(noise)*xi ; noise= 1e-03\n",
      "d= 100, k= 4, p= 8, lrW= 8.000, lra= 8.000, noise= 1e-03 -- j= 0, alpha= 0e+00, eg= 0.0451643376, time= 0.00\n",
      "d = 100, k = 4, p = 8, lrW = 8.000, lra = 8.000, noise= 1e-03 -- j = 100, alpha = 1e+00, eg = 0.0451452174, time = 0.19\n",
      "d = 100, k = 4, p = 8, lrW = 8.000, lra = 8.000, noise= 1e-03 -- j = 200, alpha = 2e+00, eg = 0.0451297423, time = 0.03\n",
      "d = 100, k = 4, p = 8, lrW = 8.000, lra = 8.000, noise= 1e-03 -- j = 300, alpha = 3e+00, eg = 0.0451663149, time = 0.02\n",
      "d = 100, k = 4, p = 8, lrW = 8.000, lra = 8.000, noise= 1e-03 -- j = 400, alpha = 4e+00, eg = 0.0451158828, time = 0.02\n",
      "d = 100, k = 4, p = 8, lrW = 8.000, lra = 8.000, noise= 1e-03 -- j = 500, alpha = 5e+00, eg = 0.0450772829, time = 0.02\n",
      "d = 100, k = 4, p = 8, lrW = 8.000, lra = 8.000, noise= 1e-03 -- j = 600, alpha = 6e+00, eg = 0.0450541632, time = 0.02\n",
      "d = 100, k = 4, p = 8, lrW = 8.000, lra = 8.000, noise= 1e-03 -- j = 700, alpha = 7e+00, eg = 0.0450389742, time = 0.02\n",
      "d = 100, k = 4, p = 8, lrW = 8.000, lra = 8.000, noise= 1e-03 -- j = 800, alpha = 8e+00, eg = 0.0450486072, time = 0.02\n",
      "d = 100, k = 4, p = 8, lrW = 8.000, lra = 8.000, noise= 1e-03 -- j = 900, alpha = 9e+00, eg = 0.0450151568, time = 0.02\n",
      "d = 100, k = 4, p = 8, lrW = 8.000, lra = 8.000, noise= 1e-03 -- j = 1000, alpha = 1e+01, eg = 0.0450003576, time = 0.03\n",
      "d = 100, k = 4, p = 8, lrW = 8.000, lra = 8.000, noise= 1e-03 -- j = 2000, alpha = 2e+01, eg = 0.0447653371, time = 0.24\n",
      "d = 100, k = 4, p = 8, lrW = 8.000, lra = 8.000, noise= 1e-03 -- j = 3000, alpha = 3e+01, eg = 0.0445915634, time = 0.24\n",
      "d = 100, k = 4, p = 8, lrW = 8.000, lra = 8.000, noise= 1e-03 -- j = 4000, alpha = 4e+01, eg = 0.0445232808, time = 0.23\n",
      "d = 100, k = 4, p = 8, lrW = 8.000, lra = 8.000, noise= 1e-03 -- j = 5000, alpha = 5e+01, eg = 0.0447097712, time = 0.23\n",
      "d = 100, k = 4, p = 8, lrW = 8.000, lra = 8.000, noise= 1e-03 -- j = 6000, alpha = 6e+01, eg = 0.0443926921, time = 0.23\n",
      "d = 100, k = 4, p = 8, lrW = 8.000, lra = 8.000, noise= 1e-03 -- j = 7000, alpha = 7e+01, eg = 0.0443104319, time = 0.23\n",
      "d = 100, k = 4, p = 8, lrW = 8.000, lra = 8.000, noise= 1e-03 -- j = 8000, alpha = 8e+01, eg = 0.0442683894, time = 0.23\n",
      "d = 100, k = 4, p = 8, lrW = 8.000, lra = 8.000, noise= 1e-03 -- j = 9000, alpha = 9e+01, eg = 0.0440905676, time = 0.23\n",
      "d = 100, k = 4, p = 8, lrW = 8.000, lra = 8.000, noise= 1e-03 -- j = 10000, alpha = 1e+02, eg = 0.0442988011, time = 0.23\n",
      "d = 100, k = 4, p = 8, lrW = 8.000, lra = 8.000, noise= 1e-03 -- j = 20000, alpha = 2e+02, eg = 0.0443532353, time = 2.30\n",
      "d = 100, k = 4, p = 8, lrW = 8.000, lra = 8.000, noise= 1e-03 -- j = 30000, alpha = 3e+02, eg = 0.0444735644, time = 2.20\n",
      "d = 100, k = 4, p = 8, lrW = 8.000, lra = 8.000, noise= 1e-03 -- j = 40000, alpha = 4e+02, eg = 0.0455202579, time = 2.19\n",
      "d = 100, k = 4, p = 8, lrW = 8.000, lra = 8.000, noise= 1e-03 -- j = 50000, alpha = 5e+02, eg = 0.0469742324, time = 2.31\n",
      "d = 100, k = 4, p = 8, lrW = 8.000, lra = 8.000, noise= 1e-03 -- j = 60000, alpha = 6e+02, eg = 0.0445210874, time = 2.36\n",
      "d = 100, k = 4, p = 8, lrW = 8.000, lra = 8.000, noise= 1e-03 -- j = 70000, alpha = 7e+02, eg = 0.0525300608, time = 2.49\n",
      "d = 100, k = 4, p = 8, lrW = 8.000, lra = 8.000, noise= 1e-03 -- j = 80000, alpha = 8e+02, eg = 0.0467336280, time = 2.42\n",
      "d = 100, k = 4, p = 8, lrW = 8.000, lra = 8.000, noise= 1e-03 -- j = 90000, alpha = 9e+02, eg = 0.0460884285, time = 2.43\n",
      "d = 100, k = 4, p = 8, lrW = 8.000, lra = 8.000, noise= 1e-03 -- j = 100000, alpha = 1e+03, eg = 0.0441662688, time = 2.44\n",
      "d = 100, k = 4, p = 8, lrW = 8.000, lra = 8.000, noise= 1e-03 -- j = 200000, alpha = 2e+03, eg = 0.0437983964, time = 27.25\n",
      "d = 100, k = 4, p = 8, lrW = 8.000, lra = 8.000, noise= 1e-03 -- j = 300000, alpha = 3e+03, eg = 0.0440201988, time = 31.62\n",
      "d = 100, k = 4, p = 8, lrW = 8.000, lra = 8.000, noise= 1e-03 -- j = 400000, alpha = 4e+03, eg = 0.0443643651, time = 27.87\n",
      "d = 100, k = 4, p = 8, lrW = 8.000, lra = 8.000, noise= 1e-03 -- j = 500000, alpha = 5e+03, eg = 0.0438524567, time = 27.31\n",
      "d = 100, k = 4, p = 8, lrW = 8.000, lra = 8.000, noise= 1e-03 -- j = 600000, alpha = 6e+03, eg = 0.0441859391, time = 25.98\n",
      "d = 100, k = 4, p = 8, lrW = 8.000, lra = 8.000, noise= 1e-03 -- j = 700000, alpha = 7e+03, eg = 0.0519882978, time = 25.59\n",
      "d = 100, k = 4, p = 8, lrW = 8.000, lra = 8.000, noise= 1e-03 -- j = 800000, alpha = 8e+03, eg = 0.0472400954, time = 25.97\n",
      "d = 100, k = 4, p = 8, lrW = 8.000, lra = 8.000, noise= 1e-03 -- j = 900000, alpha = 9e+03, eg = 0.0433549355, time = 27.82\n",
      "d = 100, k = 4, p = 8, lrW = 8.000, lra = 8.000, noise= 1e-03 -- j = 1000000, alpha = 1e+04, eg = 0.0444256094, time = 27.44\n",
      "Terminating: alpha = 1e+04 (alpha_max)\n"
     ]
    }
   ],
   "source": [
    "kappa = 0                              # Hidden layer exponent \n",
    "delta = 0                              # Learning rate exponent\n",
    "\n",
    "simul = sim(d,p,k, train_a= True, svd_only=True)                      # Initialize the class\n",
    "Wt, at = simul.set_teacher(orthWt= True)    # orthWt: whether the teacher is delta_{rs} or not\n",
    "W0, a0 = simul.set_Theta0()                     # Gaussian uninformed initialization\n",
    "\n",
    "t_svd, eg_svd, Wf_svd, _ = simul.fit(alpha_max= t_max, delta=delta, kappa=kappa, lrW0= gamma_0, noise= noise, tol= tol, save_folder= save_folder)"
   ]
  },
  {
   "cell_type": "code",
   "execution_count": 10,
   "id": "97d891c2-861b-4a7f-b0a7-2b1feb2f3443",
   "metadata": {},
   "outputs": [
    {
     "data": {
      "image/png": "[encoded data removed]",
      "text/plain": [
       "<Figure size 1000x600 with 1 Axes>"
      ]
     },
     "metadata": {},
     "output_type": "display_data"
    }
   ],
   "source": [
    "fig, ax = plt.subplots(figsize=(10, 6))\n",
    "\n",
    "lines =10\n",
    "colors = pl.cm.Blues_r(np.linspace(0,1,lines))\n",
    "col0=0\n",
    "\n",
    "ax.plot(t, eg, color=colors[col0+4], marker='^', ls='', label= 'Only W', ms = 8, mew = 2)\n",
    "ax.plot(t_a, eg_a, color=colors[col0+1], marker='^', ls='', label= 'W and a', ms = 8, mew = 2)\n",
    "ax.plot(t_svd, eg_svd, color='C3', marker='^', ls='', label= 'a and SVD', ms = 8, mew = 2)\n",
    "ax.set_yscale('log')\n",
    "ax.set_xscale('log')\n",
    "ax.set_xlabel(r'$t = \\frac{\\nu}{d}$', fontsize= 25)\n",
    "ax.set_ylabel(r'${\\cal R}$', fontsize= 25)\n",
    "ax.legend(fontsize=16, loc=3)\n",
    "ax.tick_params(axis='y', labelsize=16)\n",
    "ax.tick_params(axis='x', labelsize=16)\n",
    "ax.grid(True)\n",
    "plt.show()"
   ]
  },
  {
   "cell_type": "code",
   "execution_count": null,
   "id": "cab06ce0-8a30-4ba0-bf1d-b351d0a382a8",
   "metadata": {},
   "outputs": [],
   "source": []
  },
  {
   "cell_type": "code",
   "execution_count": null,
   "id": "44da98bf-849a-4a86-b885-7581176c9ca7",
   "metadata": {},
   "outputs": [],
   "source": []
  },
  {
   "cell_type": "code",
   "execution_count": 3,
   "id": "96a4971b-2b89-448a-b530-e383b95ca5da",
   "metadata": {},
   "outputs": [],
   "source": [
    "s = np.random.uniform(-1,1,100)"
   ]
  },
  {
   "cell_type": "code",
   "execution_count": 16,
   "id": "6f839534-b426-498c-bfd3-2b62cfc6acaf",
   "metadata": {},
   "outputs": [
    {
     "data": {
      "image/png": "[encoded data removed]",
      "text/plain": [
       "<Figure size 1000x600 with 1 Axes>"
      ]
     },
     "metadata": {},
     "output_type": "display_data"
    }
   ],
   "source": [
    "fig, ax = plt.subplots(figsize=(10, 6))\n",
    "\n",
    "ax.plot(s, np.exp(s), marker='^', ls='', ms = 8, mew = 2, label= '$\\Delta= 10^{-3}$')\n",
    "#ax.set_yscale('log')\n",
    "#ax.set_xscale('log')\n",
    "ax.set_xlabel(r'$t = \\frac{\\nu}{d}$', fontsize= 25)\n",
    "ax.set_ylabel(r'${\\cal R}$', fontsize= 25)\n",
    "ax.legend(fontsize=16, loc=2)\n",
    "#ax.tick_params(axis='y', labelsize=16)\n",
    "#ax.tick_params(axis='x', labelsize=16)\n",
    "ax.grid(True)\n",
    "plt.show()"
   ]
  },
  {
   "cell_type": "code",
   "execution_count": 6,
   "id": "372c943f-9f5d-4fdb-bb73-6757aa85ff8f",
   "metadata": {},
   "outputs": [],
   "source": [
    "from scipy.stats import semicircular"
   ]
  },
  {
   "cell_type": "code",
   "execution_count": 15,
   "id": "3d4e255d-6c7a-48ca-90cd-c77808aea331",
   "metadata": {},
   "outputs": [],
   "source": [
    "samples = semicircular.rvs(loc=0, scale=1, size=10000, random_state=None)"
   ]
  },
  {
   "cell_type": "code",
   "execution_count": 16,
   "id": "f003dc55-5f93-4f67-8871-2e6af99a14a5",
   "metadata": {},
   "outputs": [
    {
     "data": {
      "image/png": "[encoded data removed]",
      "text/plain": [
       "<Figure size 1000x600 with 1 Axes>"
      ]
     },
     "metadata": {},
     "output_type": "display_data"
    }
   ],
   "source": [
    "fig, ax = plt.subplots(1, 1)\n",
    "ax.hist(samples, bins=50)\n",
    "plt.show()"
   ]
  },
  {
   "cell_type": "code",
   "execution_count": null,
   "id": "c6c1096f-94cb-4dea-8cfe-a7cfae379811",
   "metadata": {},
   "outputs": [],
   "source": []
  },
  {
   "cell_type": "code",
   "execution_count": 17,
   "id": "e4006b4d-fe94-4e65-a19f-12ac8264635e",
   "metadata": {},
   "outputs": [
    {
     "data": {
      "text/plain": [
       "array([-0.2672135 ,  0.07107839, -0.01555609, ..., -0.67049598,\n",
       "       -0.36968184, -0.83346563])"
      ]
     },
     "execution_count": 17,
     "metadata": {},
     "output_type": "execute_result"
    }
   ],
   "source": [
    "samples"
   ]
  },
  {
   "cell_type": "code",
   "execution_count": 7,
   "id": "c0cc7abb-dc09-4430-be60-17015b1f8429",
   "metadata": {},
   "outputs": [],
   "source": [
    "from scipy.stats import ortho_group"
   ]
  },
  {
   "cell_type": "code",
   "execution_count": 19,
   "id": "3080bf2d-8145-4b8a-b1fd-067b8de36abe",
   "metadata": {},
   "outputs": [],
   "source": [
    "    x = ortho_group.rvs(3)"
   ]
  },
  {
   "cell_type": "code",
   "execution_count": 21,
   "id": "70ebf777-8a60-466d-8a75-3f367b50dc39",
   "metadata": {},
   "outputs": [
    {
     "data": {
      "text/plain": [
       "array([[-0.98480061,  0.15271585, -0.08273828],\n",
       "       [-0.11110283, -0.18772352,  0.97591805],\n",
       "       [ 0.13350624,  0.97027715,  0.2018374 ]])"
      ]
     },
     "execution_count": 21,
     "metadata": {},
     "output_type": "execute_result"
    }
   ],
   "source": [
    "x"
   ]
  },
  {
   "cell_type": "code",
   "execution_count": 22,
   "id": "679b13b5-9536-413e-a86c-07b659286792",
   "metadata": {},
   "outputs": [
    {
     "data": {
      "text/plain": [
       "array([[ 1.00000000e+00, -1.16787696e-16,  6.87194492e-18],\n",
       "       [-1.16787696e-16,  1.00000000e+00, -1.24520324e-16],\n",
       "       [ 6.87194492e-18, -1.24520324e-16,  1.00000000e+00]])"
      ]
     },
     "execution_count": 22,
     "metadata": {},
     "output_type": "execute_result"
    }
   ],
   "source": [
    "x.dot(x.T)"
   ]
  },
  {
   "cell_type": "code",
   "execution_count": 23,
   "id": "465e1098-1864-4789-98a2-9c2b7757bd9c",
   "metadata": {},
   "outputs": [
    {
     "data": {
      "text/plain": [
       "array([[ 0.16479226,  0.1711062 ,  0.97137335],\n",
       "       [ 0.69232542, -0.72152098,  0.00964289],\n",
       "       [ 0.70251621,  0.67091739, -0.23736224]])"
      ]
     },
     "execution_count": 23,
     "metadata": {},
     "output_type": "execute_result"
    }
   ],
   "source": [
    "ortho_group.rvs(3).T"
   ]
  },
  {
   "cell_type": "code",
   "execution_count": 9,
   "id": "91cddb00-2fce-4080-a591-0ec3bf1cb2f5",
   "metadata": {},
   "outputs": [
    {
     "data": {
      "text/plain": [
       "array([ 0.37483885,  0.39768342, -0.63927175, -0.02352687, -0.76276303,\n",
       "        0.40406185,  0.74156933,  0.55930331, -0.57700765, -0.2271141 ])"
      ]
     },
     "execution_count": 9,
     "metadata": {},
     "output_type": "execute_result"
    }
   ],
   "source": [
    "semicircular.rvs(size=10)"
   ]
  },
  {
   "cell_type": "code",
   "execution_count": 24,
   "id": "b4b8d14c-2a5c-4314-ac7a-5a71ca422092",
   "metadata": {},
   "outputs": [],
   "source": [
    "d = 10\n",
    "p = 4\n",
    "\n",
    "W0 = np.random.randn(d,p)\n",
    "\n",
    "U0, sv0, V0t = np.linalg.svd(W0)"
   ]
  },
  {
   "cell_type": "code",
   "execution_count": 28,
   "id": "48967261-6775-486f-83a0-b972e81dd175",
   "metadata": {},
   "outputs": [
    {
     "data": {
      "text/plain": [
       "array([3.49460495, 2.71215531, 2.1767133 , 0.94263332])"
      ]
     },
     "execution_count": 28,
     "metadata": {},
     "output_type": "execute_result"
    }
   ],
   "source": [
    "sv0"
   ]
  },
  {
   "cell_type": "code",
   "execution_count": 29,
   "id": "293238de-cf72-4498-8085-249865120413",
   "metadata": {},
   "outputs": [],
   "source": [
    "from scipy.linalg import diagsvd"
   ]
  },
  {
   "cell_type": "code",
   "execution_count": 31,
   "id": "1061842f-2936-403c-990b-c8f7b8763b12",
   "metadata": {},
   "outputs": [
    {
     "data": {
      "text/plain": [
       "array([[3.49460495, 0.        , 0.        , 0.        ],\n",
       "       [0.        , 2.71215531, 0.        , 0.        ],\n",
       "       [0.        , 0.        , 2.1767133 , 0.        ],\n",
       "       [0.        , 0.        , 0.        , 0.94263332],\n",
       "       [0.        , 0.        , 0.        , 0.        ],\n",
       "       [0.        , 0.        , 0.        , 0.        ],\n",
       "       [0.        , 0.        , 0.        , 0.        ],\n",
       "       [0.        , 0.        , 0.        , 0.        ],\n",
       "       [0.        , 0.        , 0.        , 0.        ],\n",
       "       [0.        , 0.        , 0.        , 0.        ]])"
      ]
     },
     "execution_count": 31,
     "metadata": {},
     "output_type": "execute_result"
    }
   ],
   "source": [
    "diagsvd(sv0, d, p)"
   ]
  },
  {
   "cell_type": "code",
   "execution_count": 33,
   "id": "c01f1789-a55b-4f56-b1e4-d96c6ca2f124",
   "metadata": {},
   "outputs": [],
   "source": [
    "W0_rec = U0 @ diagsvd(sv0, d, p) @ V0t"
   ]
  },
  {
   "cell_type": "code",
   "execution_count": 34,
   "id": "5d860ef0-ae3a-4f40-b21e-25ac892263bc",
   "metadata": {},
   "outputs": [
    {
     "data": {
      "text/plain": [
       "array([[-0.49813181,  0.29177028,  1.36500917, -0.37350306],\n",
       "       [-0.61667431, -0.06521255,  0.81557535,  0.6939223 ],\n",
       "       [ 0.51736951, -0.54922656, -0.35631044, -1.46419781],\n",
       "       [-0.41628601, -0.81232595,  0.36079324,  0.44538908],\n",
       "       [-0.14975015, -1.1706581 ,  0.51108942, -0.99353083],\n",
       "       [-0.53265867, -0.45326038, -0.61011976,  0.69686383],\n",
       "       [ 1.48583868,  0.61655091,  0.30847276, -1.03721799],\n",
       "       [-0.86825683, -1.3628252 ,  0.31960238,  0.71535496],\n",
       "       [-1.65558293,  0.00329073,  1.17904631,  0.26764463],\n",
       "       [ 0.23216601, -0.44395398, -1.23264274,  0.61671201]])"
      ]
     },
     "execution_count": 34,
     "metadata": {},
     "output_type": "execute_result"
    }
   ],
   "source": [
    "W0_rec"
   ]
  },
  {
   "cell_type": "code",
   "execution_count": 37,
   "id": "fa6eebfa-0df5-4c82-ad2b-116e1931e2e8",
   "metadata": {},
   "outputs": [
    {
     "data": {
      "text/plain": [
       "1.1102230246251565e-15"
      ]
     },
     "execution_count": 37,
     "metadata": {},
     "output_type": "execute_result"
    }
   ],
   "source": [
    "np.max(np.abs(W0_rec - W0))"
   ]
  },
  {
   "cell_type": "code",
   "execution_count": null,
   "id": "e2b34983-91b3-4955-8d8d-af628ba3716f",
   "metadata": {},
   "outputs": [],
   "source": []
  }
 ],
 "metadata": {
  "kernelspec": {
   "display_name": "Python 3 (ipykernel)",
   "language": "python",
   "name": "python3"
  },
  "language_info": {
   "codemirror_mode": {
    "name": "ipython",
    "version": 3
   },
   "file_extension": ".py",
   "mimetype": "text/x-python",
   "name": "python",
   "nbconvert_exporter": "python",
   "pygments_lexer": "ipython3",
   "version": "3.10.8"
  }
 },
 "nbformat": 4,
 "nbformat_minor": 5
}
